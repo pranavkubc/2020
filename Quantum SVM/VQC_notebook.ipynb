{
 "cells": [
  {
   "cell_type": "markdown",
   "metadata": {},
   "source": [
    "<img src=\"https://s3-ap-southeast-1.amazonaws.com/he-public-data/wordmark_black65ee464.png\" width=\"700\">"
   ]
  },
  {
   "cell_type": "markdown",
   "metadata": {},
   "source": [
    "# Variational Quantum Classifier"
   ]
  },
  {
   "cell_type": "markdown",
   "metadata": {},
   "source": [
    "## Contents\n",
    "\n",
    "1. [Introduction](#intro)    \n",
    "    1.1  [Data Pre-Processing](#pre-process)\n",
    "2. [Classification on a Quantum Computer](#vqc)    \n",
    "    2.1 [Loading Data onto the Quantum Computer](#feature-maps)    \n",
    "    2.2 [Building the Circuit that Classifies](#var-forms)      \n",
    "    2.3 [Measurement and Assigning a Binary Label](#validate)      \n",
    "    2.4 [Classical optimization loop](#classical-optimization)    \n",
    "3. [Classifying Digits 0 and 1](#full)\n"
   ]
  },
  {
   "cell_type": "markdown",
   "metadata": {},
   "source": [
    "## 1. Introduction <a id=\"intro\"></a>"
   ]
  },
  {
   "cell_type": "markdown",
   "metadata": {},
   "source": [
    "### 1.1 Data Pre-Processing <a id=\"pre-process\"></a>"
   ]
  },
  {
   "cell_type": "markdown",
   "metadata": {},
   "source": [
    "Similar to classical machine learning we employ various pre-processing techniques on the classical dataset before its fed into the quantum computer. This helps us work with larger and more complex datasets with the quantum computers we have today. The dataset we're going to work with today will be a subset of the popular handwritten digits dataset, the **[MNIST](http://yann.lecun.com/exdb/mnist/) dataset**. You can read more about it on the wikipedia page [here](https://en.wikipedia.org/wiki/MNIST_database)."
   ]
  },
  {
   "cell_type": "code",
   "execution_count": null,
   "metadata": {},
   "outputs": [],
   "source": [
    "# installing a few dependencies\n",
    "!pip install --upgrade seaborn==0.10.1\n",
    "!pip install --upgrade scikit-learn==0.23.1\n",
    "!pip install --upgrade matplotlib==3.2.0\n",
    "!pip install --upgrade pandas==1.0.4\n",
    "!pip install --upgrade qiskit==0.19.6 \n",
    "\n",
    "# the output will be cleared after installation\n",
    "from IPython.display import clear_output\n",
    "clear_output()"
   ]
  },
  {
   "cell_type": "markdown",
   "metadata": {},
   "source": [
    "Lets start by importing the dataset which you can download [here](http://yann.lecun.com/exdb/mnist/) or use the one present in the directory in a .csv file format.\n",
    "\n",
    "**IMPORTANT:**\n",
    "* If you are using this notebook by cloning the repo Qiskit-Challenge-India/2020 you will have to first **unzip the dataset `mnist_train.csv.zip` to `mnist_train.csv`** before you can run the code below."
   ]
  },
  {
   "cell_type": "code",
   "execution_count": 9,
   "metadata": {},
   "outputs": [],
   "source": [
    "# importing some useful modules\n",
    "import numpy as np\n",
    "%matplotlib inline\n",
    "import matplotlib.pyplot as plt\n",
    "\n",
    "image_size = 28 # width and length are equal\n",
    "\n",
    "# Working directory:\n",
    "\n",
    "#- VQC_notebook.ipynb\n",
    "#- dataset\n",
    "#----mnist_train.csv\n",
    "#----mnist_test.csv\n",
    "\n",
    "# In case our working directory is not in the same configuration as given above, change the data_path variable to point to the dataset\n",
    "data_path = \"./dataset/\"\n",
    "train_data = np.loadtxt(data_path + \"mnist_train.csv\", delimiter=\",\")\n",
    "test_data = np.loadtxt(data_path + \"mnist_test.csv\", delimiter=\",\") "
   ]
  },
  {
   "cell_type": "code",
   "execution_count": 10,
   "metadata": {
    "scrolled": true
   },
   "outputs": [
    {
     "name": "stdout",
     "output_type": "stream",
     "text": [
      "Number of training datapoints: 60000\n",
      "Number of testing datapoints: 10000\n"
     ]
    }
   ],
   "source": [
    "print(\"Number of training datapoints: {}\".format(train_data.shape[0]))\n",
    "print(\"Number of testing datapoints: {}\".format(test_data.shape[0]))"
   ]
  },
  {
   "cell_type": "markdown",
   "metadata": {},
   "source": [
    "Before we move forward lets take a closer look at the structure of the training dataset:\n",
    "\n",
    "* There are a total of **60,000 datapoints** (rows in train_data) corresponding to digits ranging from `0` to `9`\n",
    "* The first column has the **label** of the datapoint ranging from `0` to `9`\n",
    "* The next 784 columns/features are each a 28 $\\times$ 28 grayscale image collapsed into a row. Therefore, the **dimension of the data is 784**. Each of these values range from 0 to 275 where **0 corresponds to white** and **255 corresponds to black**\n",
    "\n",
    "The testing dataset is also of the same format with just lesser datapoints. \n",
    "\n",
    "Here's an example of a datapoint with label `0`. "
   ]
  },
  {
   "cell_type": "code",
   "execution_count": 11,
   "metadata": {},
   "outputs": [
    {
     "data": {
      "image/png": "[encoded data removed]",
      "text/plain": [
       "<Figure size 432x288 with 1 Axes>"
      ]
     },
     "metadata": {
      "needs_background": "light"
     },
     "output_type": "display_data"
    }
   ],
   "source": [
    "img = train_data[:, 1:][1].reshape((image_size, image_size))\n",
    "plt.imshow(img, cmap=\"Greys\")\n",
    "plt.show()"
   ]
  },
  {
   "cell_type": "markdown",
   "metadata": {},
   "source": [
    "As we will learn in the next section, dimension of the data is equal to the number of qubits we require to encode the data for the quantum feature maps we will use. As quantum computers or simulators today generally cannot work with large number of qubits, encoding data with dimension 784 is not possible. Hence, we resort to **classical dimensionality reduction techniques**. Precisely, we apply *truncated Singular Value Decomposition (SVD)* and *t-distributed stochastic neighbor embedding (t-SNE)* methods which are dimension reduction techniques to reduce the dimension down to 2 for the sake of this example. Knowledge of SVD and t-SNE is not required going forward and these dimensionality reduction methods are given only for your reference. The choice of these specific dimensionality reduction techniques has been adapted from [this](http://www.cse.chalmers.se/~richajo/dit866/lectures/l9/MNIST%20dimensionality%20reduction.html) resource and tweaking it for our specific problem. If you'd like to learn more about dimensionality reduction for the MNIST dataset you can read [Colah's blog](https://colah.github.io/posts/2014-10-Visualizing-MNIST/).\n",
    "\n",
    "As the number of training and testing samples we require will be very less, we only work with the training dataset going forward and extract training, testing and validation datasets from it when required. As we don't need a lot of training datapoints and t-SNE is computationally expensive we will only apply t-SNE on the first 10,000 datapoints. Note that as we develop larger quantum hardware in the future, the need for expensive classical pre-processing steps will be reduced."
   ]
  },
  {
   "cell_type": "code",
   "execution_count": 12,
   "metadata": {},
   "outputs": [],
   "source": [
    "# Extracting the features and labels from the dataset and shortening the dataset to 10,000 datapoints\n",
    "train_data_features = train_data[:10000, 1:]\n",
    "train_data_labels = train_data[:10000, :1].reshape(10000,)"
   ]
  },
  {
   "cell_type": "code",
   "execution_count": 13,
   "metadata": {},
   "outputs": [],
   "source": [
    "from sklearn.decomposition import TruncatedSVD\n",
    "from sklearn.manifold import TSNE\n",
    "\n",
    "# Using SVD to bring down the dimension to 10\n",
    "tsvd = TruncatedSVD(n_components=10)\n",
    "X_SVD = tsvd.fit_transform(train_data_features)\n",
    "\n",
    "# Further using t-SNE to bring the dimension down to 2\n",
    "np.random.seed(0)\n",
    "tsne = TSNE(n_components=2)\n",
    "train_data_features_reduced = tsne.fit_transform(X_SVD)"
   ]
  },
  {
   "cell_type": "code",
   "execution_count": 14,
   "metadata": {},
   "outputs": [
    {
     "name": "stdout",
     "output_type": "stream",
     "text": [
      "Dimension of the reduced dataset: 2\n"
     ]
    }
   ],
   "source": [
    "print(\"Dimension of the reduced dataset: {}\".format(train_data_features_reduced.shape[1]))"
   ]
  },
  {
   "cell_type": "markdown",
   "metadata": {},
   "source": [
    "Lets plot out the dataset to see if the labels are interpretable, i.e show some sort of clustering in the reduced dataset. For this we are creating a pandas dataframe and using seaborn to plot the data. "
   ]
  },
  {
   "cell_type": "code",
   "execution_count": 17,
   "metadata": {},
   "outputs": [],
   "source": [
    "import seaborn as sns\n",
    "import pandas as pd\n",
    "\n",
    "# function to help plot the 2-D dataset\n",
    "def plot2d(X, Y, c1, c2, N):\n",
    "    lbl1 = f'Component {c1}'\n",
    "    lbl2 = f'Component {c2}'    \n",
    "    df = pd.DataFrame({lbl1:X[:N,c1], lbl2:X[:N,c2], 'label':Y[:N]})\n",
    "    sns.lmplot(data=df, x=lbl1, y=lbl2, fit_reg=False, hue='label', scatter_kws={'alpha':0.5})   "
   ]
  },
  {
   "cell_type": "code",
   "execution_count": 18,
   "metadata": {},
   "outputs": [
    {
     "data": {
      "image/png": "[encoded data removed]",
      "text/plain": [
       "<Figure size 411.875x360 with 1 Axes>"
      ]
     },
     "metadata": {
      "needs_background": "light"
     },
     "output_type": "display_data"
    }
   ],
   "source": [
    "plot2d(train_data_features_reduced, train_data_labels, 0, 1, N=2000)"
   ]
  },
  {
   "cell_type": "markdown",
   "metadata": {},
   "source": [
    "As we can see, datapoints corresponding to labels such as `0` and `1` are well separated, however, ambiguous datapoints such as those corresponding to `4` and `9` are overlapping. This makes sense as even when observed by a naked eye `0` and `1` are easily distinguishable however `4` and `9` may not always be as they both have a vertical line towards the bottom and a loop-like structure on top. \n",
    "\n",
    "Though there are methods to convert SVMs into multiclass classifiers they are inherently binary classifiers. Thus, we will start by extracting datapoints corresponsing to the digits `0` and `1` from the reduced dataset and normalize their features to be between 0 and 2. Normalization is done as the values will be inserted into the quantum feature map as angles in radians. You can try different normalizations and see how it changes our output, however, during the final challenge a pre-normalised dataset will be provided to you.  "
   ]
  },
  {
   "cell_type": "code",
   "execution_count": 20,
   "metadata": {},
   "outputs": [],
   "source": [
    "zero_datapoints = []\n",
    "one_datapoints = []\n",
    "for i in range(10000):\n",
    "    if train_data_labels[i] == 0:                   # extracting zeros\n",
    "        zero_datapoints.append(train_data_features_reduced[i])\n",
    "\n",
    "for i in range(10000):\n",
    "    if train_data_labels[i] == 1:                   # extracting ones\n",
    "        one_datapoints.append(train_data_features_reduced[i])\n",
    "        \n",
    "zero_datapoints = np.array(zero_datapoints)\n",
    "one_datapoints = np.array(one_datapoints)\n",
    "\n",
    "def normalize(arr, max_val, n):\n",
    "    a = np.divide(arr, max_val)\n",
    "    return a + n\n",
    "\n",
    "zero_datapoints_normalized = normalize(zero_datapoints, 100, 1)\n",
    "one_datapoints_normalized = normalize(one_datapoints, 100, 1)"
   ]
  },
  {
   "cell_type": "markdown",
   "metadata": {},
   "source": [
    "## 2. Classification on a Quantum Computer <a id=\"vqc\"></a>\n",
    "\n",
    "There are multiple methods for classifying a dataset using a quantum computer, however, today we will concentrate on a method called the **Variational Quantum Classifier (VQC)** as proposed in the paper [Havlicek et.al](https://arxiv.org/abs/1804.11326) [1]. The paper also proposes another method called the the **Kernel Estimation Method** which may be interesting for those curious. \n",
    "\n",
    "Similar to classical machine learning the VQC algorithm has a **training stage** (where datapoints with labels are provided and learning takes place) and a **testing stage** (where new datapoints without labels are provided which are then classified). Each of these stages in VQC are a four step process: \n",
    "\n",
    "* **Loading Data onto the Quantum Computer** (Apply Feature Map)\n",
    "* **Building the Circuit that Classifies** (Variational Circuit) \n",
    "* **Measurement and Assigning a Binary Label**\n",
    "* **Classical Optimization Loop**\n",
    "\n",
    "![vqc](./images/vqc.png)"
   ]
  },
  {
   "cell_type": "markdown",
   "metadata": {},
   "source": [
    "Through the course of this notebook we will look at each of these steps and gain an understanding on how the VQC algorithm works using the inbuilt `VQC` algorithm in Qiskit Aqua. Further, we will look at how we can use the `VQC` class in Qiskit Aqua to classify `0`'s and `1`'s along with customization of the algorithm to your needs. "
   ]
  },
  {
   "cell_type": "markdown",
   "metadata": {},
   "source": [
    "### 2.1 Loading Data onto the Quantum Computer <a id=\"feature-maps\"></a>\n",
    "\n",
    "Check out the qiskit-community tutorial on custom feature maps [here](https://github.com/qiskit-community/qiskit-community-tutorials/blob/master/machine_learning/custom_feature_map.ipynb) from which this section has been adapted. It has a few extra details on how to configure a custom `data map function` $\\phi_S$ which might be interesting when working with the inbuilt **quantum feature maps** (or Data Encoding Circuits) in Qiskit. \n",
    "\n",
    "The idea of quantum feature maps comes from the theory of kernels in classical machine learning where a dataset is mapped non-linearly onto a higher dimensional space where a hyperplane can be found that classifies it. \n",
    "\n",
    "As the name suggests, a **quantum feature map $\\phi(\\vec{x})$** is a map from the classical feature vector $\\vec{x}$ to the quantum state $|\\Phi(\\vec{x})\\rangle\\langle\\Phi(\\vec{x})|$, a vector in Hilbert space. This is faciliated by applying the unitary operation $\\mathcal{U}_{\\Phi(\\vec{x})}$ on the initial state $|0\\rangle^{n}$ where _n_ is the number of qubits being used for encoding. By doing this process we have now blown up the dimension of our feature space and the task of our classifier is to find a separating hyperlane in this new space.\n",
    "\n",
    "Constructing feature maps based on quantum circuits that are hard to simulate classically is an important step towards obtaining a quantum advantage over classical approaches. The authors of [[1]](https://arxiv.org/abs/1804.11326) proposed a family of feature maps that is conjectured (recently proved by another group) to be hard to simulate classically and that can be implemented as short-depth circuits on near-term quantum devices. The quantum feature map of depth $d$ is implemented by the unitary operator \n",
    "\n",
    "$$ \\mathcal{U}_{\\Phi(\\mathbf{x})}=\\prod_d U_{\\Phi(\\mathbf{x})}H^{\\otimes n},\\ U_{\\Phi(\\mathbf{x})}=\\exp\\left(i\\sum_{S\\subseteq[n]}\\phi_S(\\mathbf{x})\\prod_{k\\in S} P_k\\right) $$\n",
    "\n",
    "which contains layers of Hadamard gates interleaved with entangling blocks encoding the classical data as shown in circuit diagram below for $d=2$.\n",
    "\n",
    "<img src=\"./images/uphi.PNG\" width=\"400\" />\n",
    "\n",
    "The number of qubits $n$ in the quantum circuit is equal to the dimensionality of the classical data $\\mathbf{x}$ in these feature encodings, which are encoded through the coefficients $\\phi_S(\\mathbf{x})$, where $S \\subseteq[n] = \\{1, \\ldots, n \\}$. We call the $r$-th order expansion the feature map of this circuit family when $|S|\\leq r$. In Terra, the default is the second order expansion $|S|\\leq 2$ used in [[1]](https://arxiv.org/abs/1804.11326), which gives $n$ singeltons $S=\\{i\\}$ and, depending on the connectivity graph of the quantum device, up to $\\frac{n(n-1)}{2}$ couples to encode entangling interactions. The greater the upper bound $r$, the more interactions will be taken into account.\n",
    "\n",
    "Only contributions from $Z$ and $ZZ$ gates in the entangling blocks are considered in [[1]](https://arxiv.org/abs/1804.11326). In general, the blocks can be expressed in terms of the Pauli gates $P_k \\in \\{\\mathbb{1}_k, X_k, Y_k, Z_k \\}$.\n",
    "\n",
    "In the Terra circuit library, the circuit depth $d$, coefficients $\\phi_S$, entanglement, and gates $P_k$ are mutable for Variational Quantum Classifier. As discussed in [[1]](https://arxiv.org/abs/1804.11326), the depth $d=1$ circuit can be efficiently simulated classically by uniform sampling, while the $d=2$ variant is conjectured to be hard to simulate classically."
   ]
  },
  {
   "cell_type": "markdown",
   "metadata": {},
   "source": [
    "### Using Feature Maps from the Terra Circuit Library\n",
    "\n",
    "We will now learn how to configure inbuilt quantum feature maps in Qiskit Terra by modifing the `circuit depth` $d$, `entanglement`, and gates $P_k$. Documentation on the quantum feature maps in Terra can be found in the [Circuit Library](https://qiskit.org/documentation/apidoc/circuit_library.html) under the \"Data Encoding Circuits\" section. \n",
    "\n",
    "We'll see how to build quantum feature maps inbuilt in Qiskit and a method to build your own custom feature map. A feature map is essentially a variational circuit and Qiskit Terra's circuit library has numerous variational circuits one could use for building their quantum feature map. However, the circuits specific to the data preparation step used in the paper [[1]](https://arxiv.org/abs/1804.11326) are : \n",
    "\n",
    "* ZFeatureMap\n",
    "* ZZFeatureMap\n",
    "* PauliFeatureMap\n",
    "\n",
    "These are also the feature maps that are available in Qiskit. Lets start by importing what is required."
   ]
  },
  {
   "cell_type": "code",
   "execution_count": 23,
   "metadata": {},
   "outputs": [],
   "source": [
    "from qiskit import *\n",
    "import numpy as np\n",
    "\n",
    "import time\n",
    "from qiskit.circuit.library import ZZFeatureMap, ZFeatureMap, PauliFeatureMap\n",
    "from qiskit.aqua.utils import split_dataset_to_data_and_labels, map_label_to_class_name\n",
    "from qiskit.aqua import QuantumInstance\n",
    "from qiskit.aqua.algorithms import VQC"
   ]
  },
  {
   "cell_type": "markdown",
   "metadata": {},
   "source": [
    "### ZFeatureMap"
   ]
  },
  {
   "cell_type": "markdown",
   "metadata": {},
   "source": [
    "A first order diagonal expansion is implemented using the `ZFeatureMap` feature map where $|S|=1$. The resulting circuit contains no interactions between features of the encoded data, and therefore no entanglement. The feature map can take the following inputs:\n",
    "\n",
    "- `feature_dimension`: dimensionality of the classical data (equal to the number of required qubits)\n",
    "- `reps`: number of times $d$ the feature map circuit is repeated\n",
    "- `data_map_func`: function $\\phi_S(\\mathbf{x})$ encoding the classical data.\n",
    "\n",
    "The default setting `data_map_func = self_product()` for the `ZFeatureMap` has $S = \\{i\\}$ and is given by \n",
    "\n",
    "$$\\phi_S:x\\mapsto x_i.$$"
   ]
  },
  {
   "cell_type": "code",
   "execution_count": 27,
   "metadata": {},
   "outputs": [
    {
     "data": {
      "text/html": [
       "<pre style=\"word-wrap: normal;white-space: pre;background: #fff0;line-height: 1.1;font-family: &quot;Courier New&quot;,Courier,monospace\">     ┌───┐┌──────────────┐┌───┐┌──────────────┐┌───┐┌──────────────┐┌───┐»\n",
       "q_0: ┤ H ├┤ U1(2.0*x[0]) ├┤ H ├┤ U1(2.0*x[0]) ├┤ H ├┤ U1(2.0*x[0]) ├┤ H ├»\n",
       "     ├───┤├──────────────┤├───┤├──────────────┤├───┤├──────────────┤├───┤»\n",
       "q_1: ┤ H ├┤ U1(2.0*x[1]) ├┤ H ├┤ U1(2.0*x[1]) ├┤ H ├┤ U1(2.0*x[1]) ├┤ H ├»\n",
       "     ├───┤├──────────────┤├───┤├──────────────┤├───┤├──────────────┤├───┤»\n",
       "q_2: ┤ H ├┤ U1(2.0*x[2]) ├┤ H ├┤ U1(2.0*x[2]) ├┤ H ├┤ U1(2.0*x[2]) ├┤ H ├»\n",
       "     └───┘└──────────────┘└───┘└──────────────┘└───┘└──────────────┘└───┘»\n",
       "«     ┌──────────────┐\n",
       "«q_0: ┤ U1(2.0*x[0]) ├\n",
       "«     ├──────────────┤\n",
       "«q_1: ┤ U1(2.0*x[1]) ├\n",
       "«     ├──────────────┤\n",
       "«q_2: ┤ U1(2.0*x[2]) ├\n",
       "«     └──────────────┘</pre>"
      ],
      "text/plain": [
       "     ┌───┐┌──────────────┐┌───┐┌──────────────┐┌───┐┌──────────────┐┌───┐»\n",
       "q_0: ┤ H ├┤ U1(2.0*x[0]) ├┤ H ├┤ U1(2.0*x[0]) ├┤ H ├┤ U1(2.0*x[0]) ├┤ H ├»\n",
       "     ├───┤├──────────────┤├───┤├──────────────┤├───┤├──────────────┤├───┤»\n",
       "q_1: ┤ H ├┤ U1(2.0*x[1]) ├┤ H ├┤ U1(2.0*x[1]) ├┤ H ├┤ U1(2.0*x[1]) ├┤ H ├»\n",
       "     ├───┤├──────────────┤├───┤├──────────────┤├───┤├──────────────┤├───┤»\n",
       "q_2: ┤ H ├┤ U1(2.0*x[2]) ├┤ H ├┤ U1(2.0*x[2]) ├┤ H ├┤ U1(2.0*x[2]) ├┤ H ├»\n",
       "     └───┘└──────────────┘└───┘└──────────────┘└───┘└──────────────┘└───┘»\n",
       "«     ┌──────────────┐\n",
       "«q_0: ┤ U1(2.0*x[0]) ├\n",
       "«     ├──────────────┤\n",
       "«q_1: ┤ U1(2.0*x[1]) ├\n",
       "«     ├──────────────┤\n",
       "«q_2: ┤ U1(2.0*x[2]) ├\n",
       "«     └──────────────┘"
      ]
     },
     "execution_count": 27,
     "metadata": {},
     "output_type": "execute_result"
    }
   ],
   "source": [
    "feature_dim = 3     # equal to the dimension of the data\n",
    "\n",
    "Z_feature_map = ZFeatureMap(feature_dimension=feature_dim, reps=4)\n",
    "Z_feature_map.draw()"
   ]
  },
  {
   "cell_type": "markdown",
   "metadata": {},
   "source": [
    "A good point to note at this point is that the `U1Gate` is an anti-clockwise rotation around the Z axis which changes the relative phase of a qubit, i.e, the $R_Z(\\phi)$ gate. And the reason why we see a factor of `2.0` inside all the gates, i.e, such as `U1(2.0*x[0])` is because $U_{\\Phi(\\mathbf{\\theta})}=\\exp\\left(i\\phi(\\mathbf{\\theta})Z_k\\right)$ and we know that $R_P(\\theta) = e^{(-i\\frac{\\theta}{2}P)}$ where $P$ is a Pauli X, Y or Z matrix."
   ]
  },
  {
   "cell_type": "code",
   "execution_count": 33,
   "metadata": {},
   "outputs": [
    {
     "name": "stdout",
     "output_type": "stream",
     "text": [
      "parameters of the Z Feature Map are: {Parameter(x[1]), Parameter(x[0]), Parameter(x[2])}\n"
     ]
    }
   ],
   "source": [
    "print(\"parameters of the Z Feature Map are: {}\".format(Z_feature_map.parameters))"
   ]
  },
  {
   "cell_type": "markdown",
   "metadata": {},
   "source": [
    "On playing around with the `feature_dim` attribute on `ZFeatureMap` we realize that for encoding data of dimension _d_ we require _d_ qubits. And this brings us to the reason why we applied dimension reduction techniques in the classical pre-processing step. Initially the data was of dimension 784 implying that we would require 784 qubits to encode it! Post the dimensionality reduction, we only require 2 qubits. We could however increase this dimension and test our accuracies - A good project to tinker on. \n",
    "\n",
    "The parameters $x[0], x[1]$ and $x[2]$ will be binded with the values of our feature vector $\\vec{x}$ during the implementation of our algorithm and thus becomes an immutable circuit. It is important to note that though we utilize variational circuits to build the Feature Map there is no learning of parameters taking place but the substitution of our data values.  "
   ]
  },
  {
   "cell_type": "markdown",
   "metadata": {},
   "source": [
    "### ZZFeatureMap"
   ]
  },
  {
   "cell_type": "markdown",
   "metadata": {},
   "source": [
    "The `ZZFeatureMap` feature map allows $|S|\\leq 2$, so interactions in the data will be encoded in the feature map according to the connectivity graph and the classical data map. `ZZFeatureMap` with default parameters is equivalent to the feature map described in [1] and can take the additional inputs:\n",
    "\n",
    "- `entanglement`: generates connectivity `'full'` or `'linear'` or defining your own entanglement structure (default value `'full'` indicates a complete connectivity graph of $\\frac{n(n-1)}{2}$ interactions)\n",
    "\n",
    "The default setting of the data map function in `ZZFeatureMap` is given by\n",
    "\n",
    "$$\\phi_S:x\\mapsto \\Bigg\\{\\begin{array}{ll}\n",
    "    x_i & \\mbox{if}\\ S=\\{i\\} \\\\\n",
    "        (\\pi-x_i)(\\pi-x_j) & \\mbox{if}\\ S=\\{i,j\\}\n",
    "    \\end{array}$$."
   ]
  },
  {
   "cell_type": "code",
   "execution_count": 34,
   "metadata": {},
   "outputs": [
    {
     "data": {
      "text/html": [
       "<pre style=\"word-wrap: normal;white-space: pre;background: #fff0;line-height: 1.1;font-family: &quot;Courier New&quot;,Courier,monospace\">     ┌───┐┌──────────────┐     »\n",
       "q_0: ┤ H ├┤ U1(2.0*x[0]) ├──■──»\n",
       "     ├───┤├──────────────┤┌─┴─┐»\n",
       "q_1: ┤ H ├┤ U1(2.0*x[1]) ├┤ X ├»\n",
       "     └───┘└──────────────┘└───┘»\n",
       "«                                                                         ┌───┐»\n",
       "«q_0: ─────────────────────────────────────────────────────────────────■──┤ H ├»\n",
       "«     ┌─────────────────────────────────────────────────────────────┐┌─┴─┐├───┤»\n",
       "«q_1: ┤ U1(2.0*(3.14159265358979 - x[0])*(3.14159265358979 - x[1])) ├┤ X ├┤ H ├»\n",
       "«     └─────────────────────────────────────────────────────────────┘└───┘└───┘»\n",
       "«     ┌──────────────┐     »\n",
       "«q_0: ┤ U1(2.0*x[0]) ├──■──»\n",
       "«     ├──────────────┤┌─┴─┐»\n",
       "«q_1: ┤ U1(2.0*x[1]) ├┤ X ├»\n",
       "«     └──────────────┘└───┘»\n",
       "«                                                                         \n",
       "«q_0: ─────────────────────────────────────────────────────────────────■──\n",
       "«     ┌─────────────────────────────────────────────────────────────┐┌─┴─┐\n",
       "«q_1: ┤ U1(2.0*(3.14159265358979 - x[0])*(3.14159265358979 - x[1])) ├┤ X ├\n",
       "«     └─────────────────────────────────────────────────────────────┘└───┘</pre>"
      ],
      "text/plain": [
       "     ┌───┐┌──────────────┐     »\n",
       "q_0: ┤ H ├┤ U1(2.0*x[0]) ├──■──»\n",
       "     ├───┤├──────────────┤┌─┴─┐»\n",
       "q_1: ┤ H ├┤ U1(2.0*x[1]) ├┤ X ├»\n",
       "     └───┘└──────────────┘└───┘»\n",
       "«                                                                         ┌───┐»\n",
       "«q_0: ─────────────────────────────────────────────────────────────────■──┤ H ├»\n",
       "«     ┌─────────────────────────────────────────────────────────────┐┌─┴─┐├───┤»\n",
       "«q_1: ┤ U1(2.0*(3.14159265358979 - x[0])*(3.14159265358979 - x[1])) ├┤ X ├┤ H ├»\n",
       "«     └─────────────────────────────────────────────────────────────┘└───┘└───┘»\n",
       "«     ┌──────────────┐     »\n",
       "«q_0: ┤ U1(2.0*x[0]) ├──■──»\n",
       "«     ├──────────────┤┌─┴─┐»\n",
       "«q_1: ┤ U1(2.0*x[1]) ├┤ X ├»\n",
       "«     └──────────────┘└───┘»\n",
       "«                                                                         \n",
       "«q_0: ─────────────────────────────────────────────────────────────────■──\n",
       "«     ┌─────────────────────────────────────────────────────────────┐┌─┴─┐\n",
       "«q_1: ┤ U1(2.0*(3.14159265358979 - x[0])*(3.14159265358979 - x[1])) ├┤ X ├\n",
       "«     └─────────────────────────────────────────────────────────────┘└───┘"
      ]
     },
     "execution_count": 34,
     "metadata": {},
     "output_type": "execute_result"
    }
   ],
   "source": [
    "feature_dim = 2\n",
    "\n",
    "ZZ_feature_map = ZZFeatureMap(feature_dimension=feature_dim, reps=2, insert_barriers=True)\n",
    "ZZ_feature_map.draw()"
   ]
  },
  {
   "cell_type": "code",
   "execution_count": 35,
   "metadata": {},
   "outputs": [
    {
     "name": "stdout",
     "output_type": "stream",
     "text": [
      "parameters of the Z Feature Map are: {Parameter(x[1]), Parameter(x[0])}\n"
     ]
    }
   ],
   "source": [
    "print(\"parameters of the Z Feature Map are: {}\".format(ZZ_feature_map.parameters))"
   ]
  },
  {
   "cell_type": "markdown",
   "metadata": {},
   "source": [
    "### PauliFeatureMap"
   ]
  },
  {
   "cell_type": "markdown",
   "metadata": {},
   "source": [
    "For some applications, we may want to consider a more general form of the feature map. One way to generalize is to use `PauliFeatureMap` and specify a set of Pauli gates instead of using the default $Z$ gates. This feature map has the same parameters as `ZFeatureMap` and `ZZFeatureMap` such as `reps` and `data_map_func` along with an additional `paulis` parameter to change the gate set. This parameter is a list of strings, each representing the desired Pauli gate(s). The default value is `['Z', 'ZZ']`, which is equivalent to `ZZFeatureMap`.\n",
    "\n",
    "\n",
    "Each string in `paulis` is implemented one at a time for each layer in the depth $d$ feature map circuit. A single character, for example `'Z'`, adds one layer of the corresponding single-qubit gates, while terms such as `'ZZ'` or `'XY'` add a layer of corresponding two-qubit entangling gates for each qubit pair available based on `entanglement`.\n",
    "\n",
    "For example, the choice `paulis = ['Z', 'Y', 'ZZ']` generates a quantum feature map of the form \n",
    "\n",
    "$$\\mathcal{U}_{\\Phi(\\mathbf{x})} = \\left( \\exp\\left(i\\sum_{jk} \\phi_{\\{j,k\\}}(\\mathbf{x}) \\, Z_j \\otimes Z_k\\right) \\, \\exp\\left(i\\sum_{j} \\phi_{\\{j\\}}(\\mathbf{x}) \\, Y_j\\right) \\, \\exp\\left(i\\sum_j \\phi_{\\{j\\}}(\\mathbf{x}) \\, Z_j\\right) \\, H^{\\otimes n} \\right)^d.$$ \n",
    "\n",
    "The depth $d=1$ version of this quantum circuit is shown in the figure below for $n=2$ qubits.\n",
    "\n",
    "\n",
    "<img src=\"./images/depth1.PNG\" width=\"400\"/>\n",
    "\n",
    "\n",
    "The circuit begins with a layer of Hadamard gates $H^{\\otimes n}$ followed by a layer of single-qubit $A = e^{i\\phi_{\\{j\\}}(\\mathbf{x})Z_j}$ gates and a layer of $B = e^{i\\phi_{\\{j\\}}(\\mathbf{x}) \\, Y_j}$ gates. The $A$ and $B$ gates are parametrized by the same set of angles $\\phi_{\\{j\\}}(\\mathbf{x})$ but around different axes. The diagonal entangling gate $e^{i \\phi_{\\{0,1\\}}(\\mathbf{x}) \\, Z_0 \\otimes Z_1}$ is parametrized by an angle $\\phi_{\\{0,1\\}}(\\mathbf{x})$ and can be implemented using two controlled-NOT gates and one $A'=e^{i\\phi_{\\{0,1\\}}(x)\\, Z_1}$ gate as shown in the figure.\n",
    "\n",
    "As a comparison, `paulis = ['Z', 'ZZ']` creates the same circuit as above but without the $B$ gates, while `paulis = ['Z', 'YY']` creates a circuit with a layer of $A$ gates followed by a layer of entangling gates $e^{i \\phi_{\\{0,1\\}}(\\mathbf{x}) \\, Y_0 \\otimes Y_1}$.\n",
    "\n",
    "Below, we test the `PauliFeatureMap` with `paulis=['Z', 'Y', 'ZZ']`."
   ]
  },
  {
   "cell_type": "code",
   "execution_count": 36,
   "metadata": {},
   "outputs": [
    {
     "data": {
      "text/html": [
       "<pre style=\"word-wrap: normal;white-space: pre;background: #fff0;line-height: 1.1;font-family: &quot;Courier New&quot;,Courier,monospace\">     ┌───┐┌──────────────┐┌───┐┌──────────────┐┌───┐┌──────────┐     »\n",
       "q_0: ┤ H ├┤ U1(2.0*x[0]) ├┤ H ├┤ U1(2.0*x[0]) ├┤ H ├┤ RX(pi/2) ├──■──»\n",
       "     ├───┤├──────────────┤├───┤├──────────────┤├───┤└──────────┘┌─┴─┐»\n",
       "q_1: ┤ H ├┤ U1(2.0*x[1]) ├┤ H ├┤ U1(2.0*x[1]) ├┤ H ├────────────┤ X ├»\n",
       "     └───┘└──────────────┘└───┘└──────────────┘└───┘            └───┘»\n",
       "«                                                                         »\n",
       "«q_0: ─────────────────────────────────────────────────────────────────■──»\n",
       "«     ┌─────────────────────────────────────────────────────────────┐┌─┴─┐»\n",
       "«q_1: ┤ U1(2.0*(3.14159265358979 - x[0])*(3.14159265358979 - x[1])) ├┤ X ├»\n",
       "«     └─────────────────────────────────────────────────────────────┘└───┘»\n",
       "«     ┌───────────┐\n",
       "«q_0: ┤ RX(-pi/2) ├\n",
       "«     └───────────┘\n",
       "«q_1: ─────────────\n",
       "«                  </pre>"
      ],
      "text/plain": [
       "     ┌───┐┌──────────────┐┌───┐┌──────────────┐┌───┐┌──────────┐     »\n",
       "q_0: ┤ H ├┤ U1(2.0*x[0]) ├┤ H ├┤ U1(2.0*x[0]) ├┤ H ├┤ RX(pi/2) ├──■──»\n",
       "     ├───┤├──────────────┤├───┤├──────────────┤├───┤└──────────┘┌─┴─┐»\n",
       "q_1: ┤ H ├┤ U1(2.0*x[1]) ├┤ H ├┤ U1(2.0*x[1]) ├┤ H ├────────────┤ X ├»\n",
       "     └───┘└──────────────┘└───┘└──────────────┘└───┘            └───┘»\n",
       "«                                                                         »\n",
       "«q_0: ─────────────────────────────────────────────────────────────────■──»\n",
       "«     ┌─────────────────────────────────────────────────────────────┐┌─┴─┐»\n",
       "«q_1: ┤ U1(2.0*(3.14159265358979 - x[0])*(3.14159265358979 - x[1])) ├┤ X ├»\n",
       "«     └─────────────────────────────────────────────────────────────┘└───┘»\n",
       "«     ┌───────────┐\n",
       "«q_0: ┤ RX(-pi/2) ├\n",
       "«     └───────────┘\n",
       "«q_1: ─────────────\n",
       "«                  "
      ]
     },
     "execution_count": 36,
     "metadata": {},
     "output_type": "execute_result"
    }
   ],
   "source": [
    "feature_dim = 2\n",
    "\n",
    "pauli_feature_map = PauliFeatureMap(feature_dimension=feature_dim, reps=1, paulis = ['Z','X','ZY'])\n",
    "pauli_feature_map.draw()"
   ]
  },
  {
   "cell_type": "markdown",
   "metadata": {},
   "source": [
    "These are the feature maps present in Qiskit and are the ones mentioned in the paper [[1]](https://arxiv.org/abs/1804.11326) as well. It is important to note that the feature maps used in the paper were designed with the aim for them to be hard to simulate on a classical computer and are not known to have a [kernel function](https://en.wikipedia.org/wiki/Kernel_method) for the dot product which can be efficiently computed classically. \n",
    "\n",
    "The dataset used in the paper was tailor-made to get a high classification accuracy with the quantum feature maps used. However, these feature maps may not perform well with other datasets. For a particular dataset, finding a quantum feature map that can spread the datapoints in Hilbert space in such a way that a hyperplane can be drawn to classify them is important to gain higher accuracies for our model. \n",
    "\n",
    "Further, it is important for the corresponding quantum feature map circuit to be shallow (i.e, have a small circuit depth) as decoherence will come into play and decrease our accuracies. Similarily having more 2-qubit gates will increase the error in the circuit thus leading to further decrease in accuracy. To understand more about errors in real quantum computers you can look at [this section](https://qiskit.org/textbook/ch-quantum-hardware/index-circuits.html) of the Qiskit textbook. This will not be required for the challenge going forward as we will only use local simulators. Creating such short depth feature maps for real-world datasets is an open problem and an active field of research in Quantum Machine Learning.\n",
    "\n",
    "As being able to construct tailor-made feature maps is important for increasing the accuracy we will look at a method to create your very own variational circuits in the following section. This can be used to create custom feature maps as well. "
   ]
  },
  {
   "cell_type": "markdown",
   "metadata": {},
   "source": [
    "### 2.2 Building the Circuit that Classifies <a id=\"var-forms\"></a>"
   ]
  },
  {
   "cell_type": "markdown",
   "metadata": {},
   "source": [
    "In this step we append a short depth [Variational Circuit](https://qiskit.org/documentation/tutorials/circuits_advanced/1_advanced_circuits.html) to the previously constructed feature map. The parameters of this variational circuit are then trained in the [classical optimization loop](#classical-optimization) until it classifies the datapoints correctly. This is the learning stage of the algorithm and accuracy of the model can vary based on the variational circuit one chooses. It is essential to choose a variational circuit of shorter depth (making it especially viable for implementations on real hardware), lesser number of parameters to train (faster training process) while making sure its [_Expressability and Entangling capacity_](https://arxiv.org/pdf/1905.10876.pdf) are enough to classify our dataset to the degree we want. Building variational circuits with such conflicting properties, similar to the study on quantum feature maps, is an active field of research.\n",
    "\n",
    "Coming to the implementation details, In Terra one can build variational circuits using multiple classes such as the `NLocal`, `RealAmplitudes` or the `FunctionalPauliRotations` class from the Terra circuit library. More variational forms can be found in the [documentation](https://qiskit.org/documentation/apidoc/circuit_library.html), [codebase](https://github.com/Qiskit/qiskit-terra/tree/master/qiskit/circuit/library)."
   ]
  },
  {
   "cell_type": "markdown",
   "metadata": {},
   "source": [
    "**Constructing using [`Real Amplitudes`](https://qiskit.org/documentation/stubs/qiskit.circuit.library.RealAmplitudes.html):**"
   ]
  },
  {
   "cell_type": "markdown",
   "metadata": {},
   "source": [
    "Let us create a variational circuit using the inbuilt `Real Amplitudes` method. Do check out the [documentation page](https://qiskit.org/documentation/stubs/qiskit.circuit.library.RealAmplitudes.html) to understand more about its working."
   ]
  },
  {
   "cell_type": "code",
   "execution_count": 37,
   "metadata": {},
   "outputs": [
    {
     "data": {
      "text/html": [
       "<pre style=\"word-wrap: normal;white-space: pre;background: #fff0;line-height: 1.1;font-family: &quot;Courier New&quot;,Courier,monospace\">     ┌──────────┐     ┌──────────┐     ┌──────────┐     ┌──────────┐\n",
       "q_0: ┤ RY(θ[0]) ├──■──┤ RY(θ[2]) ├──■──┤ RY(θ[4]) ├──■──┤ RY(θ[6]) ├\n",
       "     ├──────────┤┌─┴─┐├──────────┤┌─┴─┐├──────────┤┌─┴─┐├──────────┤\n",
       "q_1: ┤ RY(θ[1]) ├┤ X ├┤ RY(θ[3]) ├┤ X ├┤ RY(θ[5]) ├┤ X ├┤ RY(θ[7]) ├\n",
       "     └──────────┘└───┘└──────────┘└───┘└──────────┘└───┘└──────────┘</pre>"
      ],
      "text/plain": [
       "     ┌──────────┐     ┌──────────┐     ┌──────────┐     ┌──────────┐\n",
       "q_0: ┤ RY(θ[0]) ├──■──┤ RY(θ[2]) ├──■──┤ RY(θ[4]) ├──■──┤ RY(θ[6]) ├\n",
       "     ├──────────┤┌─┴─┐├──────────┤┌─┴─┐├──────────┤┌─┴─┐├──────────┤\n",
       "q_1: ┤ RY(θ[1]) ├┤ X ├┤ RY(θ[3]) ├┤ X ├┤ RY(θ[5]) ├┤ X ├┤ RY(θ[7]) ├\n",
       "     └──────────┘└───┘└──────────┘└───┘└──────────┘└───┘└──────────┘"
      ]
     },
     "execution_count": 37,
     "metadata": {},
     "output_type": "execute_result"
    }
   ],
   "source": [
    "from qiskit.circuit.library import RealAmplitudes\n",
    "\n",
    "num_qubits = 2\n",
    "\n",
    "classifier_circ = RealAmplitudes(num_qubits, entanglement='full', reps=3)\n",
    "classifier_circ.draw()"
   ]
  },
  {
   "cell_type": "markdown",
   "metadata": {},
   "source": [
    "**Constructing a Custom Variational Circuit/Feature Map:** "
   ]
  },
  {
   "cell_type": "markdown",
   "metadata": {},
   "source": [
    "Up until this point we have learnt how to create feature maps and variational circuits using inbuilt methods in Qiskit. Now, let's create a custom variational circuit which can be used either in the place of a `FeatureMap` or as a `VariationalCircuit`. \n",
    "\n",
    "Creating a custom variational circuit is simple. While creating a `QuantumCircuit`, in the place where you would normally insert an angle you now have to insert a [`Parameter`](https://qiskit.org/documentation/stubs/qiskit.circuit.Parameter.html) object and this transforms our circuit into a variational circuit. For the sake of convenience we could use [`ParameterVector`](https://qiskit.org/documentation/stubs/qiskit.circuit.ParameterVector.html) to create a list of Pararmeters. Here's an example:"
   ]
  },
  {
   "cell_type": "code",
   "execution_count": 29,
   "metadata": {},
   "outputs": [
    {
     "data": {
      "text/html": [
       "<pre style=\"word-wrap: normal;white-space: pre;background: #fff0;line-height: 1.1;font-family: &quot;Courier New&quot;,Courier,monospace\">     ┌──────────┐                                                           »\n",
       "q_0: ┤ RX(x[0]) ├──■─────────────────────■────■─────────────────────■───────»\n",
       "     ├──────────┤┌─┴─┐┌───────────────┐┌─┴─┐  │                     │       »\n",
       "q_1: ┤ RX(x[1]) ├┤ X ├┤ U1(x[0]*x[1]) ├┤ X ├──┼─────────────────────┼────■──»\n",
       "     ├──────────┤└───┘└───────────────┘└───┘┌─┴─┐┌───────────────┐┌─┴─┐┌─┴─┐»\n",
       "q_2: ┤ RX(x[2]) ├───────────────────────────┤ X ├┤ U1(x[0]*x[2]) ├┤ X ├┤ X ├»\n",
       "     └──────────┘                           └───┘└───────────────┘└───┘└───┘»\n",
       "«                           \n",
       "«q_0: ──────────────────────\n",
       "«                           \n",
       "«q_1: ───────────────────■──\n",
       "«     ┌───────────────┐┌─┴─┐\n",
       "«q_2: ┤ U1(x[1]*x[2]) ├┤ X ├\n",
       "«     └───────────────┘└───┘</pre>"
      ],
      "text/plain": [
       "     ┌──────────┐                                                           »\n",
       "q_0: ┤ RX(x[0]) ├──■─────────────────────■────■─────────────────────■───────»\n",
       "     ├──────────┤┌─┴─┐┌───────────────┐┌─┴─┐  │                     │       »\n",
       "q_1: ┤ RX(x[1]) ├┤ X ├┤ U1(x[0]*x[1]) ├┤ X ├──┼─────────────────────┼────■──»\n",
       "     ├──────────┤└───┘└───────────────┘└───┘┌─┴─┐┌───────────────┐┌─┴─┐┌─┴─┐»\n",
       "q_2: ┤ RX(x[2]) ├───────────────────────────┤ X ├┤ U1(x[0]*x[2]) ├┤ X ├┤ X ├»\n",
       "     └──────────┘                           └───┘└───────────────┘└───┘└───┘»\n",
       "«                           \n",
       "«q_0: ──────────────────────\n",
       "«                           \n",
       "«q_1: ───────────────────■──\n",
       "«     ┌───────────────┐┌─┴─┐\n",
       "«q_2: ┤ U1(x[1]*x[2]) ├┤ X ├\n",
       "«     └───────────────┘└───┘"
      ]
     },
     "execution_count": 29,
     "metadata": {},
     "output_type": "execute_result"
    }
   ],
   "source": [
    "from qiskit.circuit import QuantumCircuit, ParameterVector\n",
    "\n",
    "num_qubits = 3            \n",
    "reps = 1              # number of times you'd want to repeat the circuit\n",
    "\n",
    "x = ParameterVector('x', length=num_qubits)  # creating a list of Parameters\n",
    "custom_circ = QuantumCircuit(num_qubits)\n",
    "\n",
    "# defining our parametric form\n",
    "for _ in range(reps):\n",
    "    for i in range(num_qubits):\n",
    "        custom_circ.rx(x[i], i)\n",
    "    for i in range(num_qubits):\n",
    "        for j in range(i + 1, num_qubits):\n",
    "            custom_circ.cx(i, j)\n",
    "            custom_circ.u1(x[i] * x[j], j)\n",
    "            custom_circ.cx(i, j)\n",
    "            \n",
    "custom_circ.draw()"
   ]
  },
  {
   "cell_type": "markdown",
   "metadata": {},
   "source": [
    "During the challenge phase, creating a custom feature map will become crucial in improving the accuracy of your model as it gives the freedom to create an effective feature map and variational circuit tailor made for your dataset. However, as we discussed earlier, the idea of \"how\" to create an effective feature map and variational circuit for a particular dataset are active fields of research and there is no concrete answer to it yet."
   ]
  },
  {
   "cell_type": "markdown",
   "metadata": {},
   "source": [
    "### 2.3 Measurement and Assigning a Binary Label <a id=\"validate\"></a> "
   ]
  },
  {
   "cell_type": "markdown",
   "metadata": {},
   "source": [
    "After creating and measuring the circuit we are left with an _n_ bit classical string from which we must derive a binary output which will be our classification result. This is done with the help of a boolean function $f: \\{0, 1\\}^{n} -> \\{0, 1\\}$. The way this boolean function is written out may not be as significant as the concepts earlier as modifying the boolean function will change the values of the parameters learned to accommodate for the change. Common examples of boolean functions are:\n",
    "\n",
    "* **Parity function** : modulus 2 sum of all the digits of the _n_ bit classical string. \n",
    "* **Choosing the \"k\"th digit** : Choose the digit number \"k\" in the _n_ bit classical string as the output, etc.\n",
    "\n",
    "This functionality is already inbuilt in the `VQC` method in Qiskit Aqua and you won't have to make any changes to it."
   ]
  },
  {
   "cell_type": "markdown",
   "metadata": {},
   "source": [
    "### 2.4 Classical optimization loop <a id=\"classical-optimization\"></a> "
   ]
  },
  {
   "cell_type": "markdown",
   "metadata": {},
   "source": [
    "Once we get our predictions a classical optimization routine changes the values of our variational circuit and repeats the whole process again. This is the classical loop that trains our parameters until the cost function value decreases. The details of the working have been ommitted as they are immutable and are not relevant going forward. However, you can look at the [code](https://github.com/Qiskit/qiskit-aqua/blob/master/qiskit/aqua/algorithms/classifiers/vqc.py) and the [optimization step](https://github.com/Qiskit/qiskit-aqua/blob/f5efe642f6374da45b96c5a73a9a01121f95081e/qiskit/aqua/algorithms/classifiers/vqc.py#L661) to understand exactly how this step takes place. \n",
    "\n",
    "Though there's isn't an available option to change the cost function during the optimization of VQC, Aqua provides you with a plethora of Optimization methods you could use during the training stage of the process. Here are a few for your reference:\n",
    "\n",
    "**Commonly used optimization methods in Aqua:**\n",
    "\n",
    "* COBYLA - Constrained Optimization By Linear Approximation optimizer.\n",
    "* SPSA - Simultaneous Perturbation Stochastic Approximation (SPSA) optimizer.\n",
    "* SLSQP - Sequential Least SQuares Programming optimizer, etc.\n",
    "\n",
    "The complete list can be found in the [documentation](https://qiskit.org/documentation/apidoc/qiskit.aqua.components.optimizers.html). "
   ]
  },
  {
   "cell_type": "markdown",
   "metadata": {},
   "source": [
    "## 3 Classifying Digits 0 and 1 <a id=\"full\"></a>"
   ]
  },
  {
   "cell_type": "markdown",
   "metadata": {},
   "source": [
    "Lets apply what we've learned using the **VQC method in Aqua** to solve our classifcation task of classifying digits `0` and `1`. Using 10,000 points for training using a simulator will take ages, hence we will take a very small subset of **20 training datapoints** and **10 testing datapoints**. We also keep 5 points per label as a validation set to see exactly how our model is classifying the given inputs. "
   ]
  },
  {
   "cell_type": "code",
   "execution_count": 30,
   "metadata": {},
   "outputs": [],
   "source": [
    "train_size = 20\n",
    "test_size = 10\n",
    "dp_size_zero = 5\n",
    "dp_size_one = 5\n",
    "\n",
    "zero_train = zero_datapoints_normalized[:train_size]\n",
    "one_train = one_datapoints_normalized[:train_size]\n",
    "\n",
    "zero_test = zero_datapoints_normalized[train_size + 1:train_size + test_size + 1]\n",
    "one_test = one_datapoints_normalized[train_size + 1:train_size + test_size + 1]\n",
    "\n",
    "training_input = {'A':zero_train, 'B':one_train}\n",
    "test_input = {'A':zero_test, 'B':one_test}\n",
    "\n",
    "# datapoints is our validation set\n",
    "datapoints = []\n",
    "dp_zero = zero_datapoints_normalized[train_size + test_size + 2:train_size + test_size + 2 + dp_size_zero]\n",
    "dp_one = one_datapoints_normalized[train_size + test_size + 2:train_size + test_size + 2 + dp_size_one]\n",
    "datapoints.append(np.concatenate((dp_zero, dp_one)))\n",
    "dp_y = np.array([0, 0, 0, 0, 0, 1, 1, 1, 1, 1])\n",
    "datapoints.append(dp_y)\n",
    "\n",
    "class_to_label = {'A': 0, 'B': 1}"
   ]
  },
  {
   "cell_type": "markdown",
   "metadata": {},
   "source": [
    "**Instantiate the Feature map to use:**"
   ]
  },
  {
   "cell_type": "code",
   "execution_count": 31,
   "metadata": {},
   "outputs": [
    {
     "data": {
      "text/html": [
       "<pre style=\"word-wrap: normal;white-space: pre;background: #fff0;line-height: 1.1;font-family: &quot;Courier New&quot;,Courier,monospace\">     ┌───┐┌──────────────┐     »\n",
       "q_0: ┤ H ├┤ U1(2.0*x[0]) ├──■──»\n",
       "     ├───┤├──────────────┤┌─┴─┐»\n",
       "q_1: ┤ H ├┤ U1(2.0*x[1]) ├┤ X ├»\n",
       "     └───┘└──────────────┘└───┘»\n",
       "«                                                                         ┌───┐»\n",
       "«q_0: ─────────────────────────────────────────────────────────────────■──┤ H ├»\n",
       "«     ┌─────────────────────────────────────────────────────────────┐┌─┴─┐├───┤»\n",
       "«q_1: ┤ U1(2.0*(3.14159265358979 - x[0])*(3.14159265358979 - x[1])) ├┤ X ├┤ H ├»\n",
       "«     └─────────────────────────────────────────────────────────────┘└───┘└───┘»\n",
       "«     ┌──────────────┐     »\n",
       "«q_0: ┤ U1(2.0*x[0]) ├──■──»\n",
       "«     ├──────────────┤┌─┴─┐»\n",
       "«q_1: ┤ U1(2.0*x[1]) ├┤ X ├»\n",
       "«     └──────────────┘└───┘»\n",
       "«                                                                         \n",
       "«q_0: ─────────────────────────────────────────────────────────────────■──\n",
       "«     ┌─────────────────────────────────────────────────────────────┐┌─┴─┐\n",
       "«q_1: ┤ U1(2.0*(3.14159265358979 - x[0])*(3.14159265358979 - x[1])) ├┤ X ├\n",
       "«     └─────────────────────────────────────────────────────────────┘└───┘</pre>"
      ],
      "text/plain": [
       "     ┌───┐┌──────────────┐     »\n",
       "q_0: ┤ H ├┤ U1(2.0*x[0]) ├──■──»\n",
       "     ├───┤├──────────────┤┌─┴─┐»\n",
       "q_1: ┤ H ├┤ U1(2.0*x[1]) ├┤ X ├»\n",
       "     └───┘└──────────────┘└───┘»\n",
       "«                                                                         ┌───┐»\n",
       "«q_0: ─────────────────────────────────────────────────────────────────■──┤ H ├»\n",
       "«     ┌─────────────────────────────────────────────────────────────┐┌─┴─┐├───┤»\n",
       "«q_1: ┤ U1(2.0*(3.14159265358979 - x[0])*(3.14159265358979 - x[1])) ├┤ X ├┤ H ├»\n",
       "«     └─────────────────────────────────────────────────────────────┘└───┘└───┘»\n",
       "«     ┌──────────────┐     »\n",
       "«q_0: ┤ U1(2.0*x[0]) ├──■──»\n",
       "«     ├──────────────┤┌─┴─┐»\n",
       "«q_1: ┤ U1(2.0*x[1]) ├┤ X ├»\n",
       "«     └──────────────┘└───┘»\n",
       "«                                                                         \n",
       "«q_0: ─────────────────────────────────────────────────────────────────■──\n",
       "«     ┌─────────────────────────────────────────────────────────────┐┌─┴─┐\n",
       "«q_1: ┤ U1(2.0*(3.14159265358979 - x[0])*(3.14159265358979 - x[1])) ├┤ X ├\n",
       "«     └─────────────────────────────────────────────────────────────┘└───┘"
      ]
     },
     "execution_count": 31,
     "metadata": {},
     "output_type": "execute_result"
    }
   ],
   "source": [
    "seed = 10598\n",
    "feature_dim = zero_train.shape[1]\n",
    "\n",
    "feature_map = ZZFeatureMap(feature_dimension=feature_dim, reps=2, entanglement='linear')\n",
    "feature_map.draw()"
   ]
  },
  {
   "cell_type": "markdown",
   "metadata": {},
   "source": [
    "**Instantiate the Classical Optimizer to use:**"
   ]
  },
  {
   "cell_type": "code",
   "execution_count": 32,
   "metadata": {},
   "outputs": [],
   "source": [
    "from qiskit.aqua.components.optimizers import COBYLA\n",
    "\n",
    "cobyla = COBYLA(maxiter=500, tol=0.001)"
   ]
  },
  {
   "cell_type": "markdown",
   "metadata": {},
   "source": [
    "**Instantiate the variational Circuit to use:**"
   ]
  },
  {
   "cell_type": "code",
   "execution_count": 33,
   "metadata": {},
   "outputs": [
    {
     "data": {
      "text/html": [
       "<pre style=\"word-wrap: normal;white-space: pre;background: #fff0;line-height: 1.1;font-family: &quot;Courier New&quot;,Courier,monospace\">     ┌──────────┐┌──────────┐     ┌──────────┐┌──────────┐     ┌──────────┐»\n",
       "q_0: ┤ RY(θ[0]) ├┤ RZ(θ[2]) ├──■──┤ RY(θ[4]) ├┤ RZ(θ[6]) ├──■──┤ RY(θ[8]) ├»\n",
       "     ├──────────┤├──────────┤┌─┴─┐├──────────┤├──────────┤┌─┴─┐├──────────┤»\n",
       "q_1: ┤ RY(θ[1]) ├┤ RZ(θ[3]) ├┤ X ├┤ RY(θ[5]) ├┤ RZ(θ[7]) ├┤ X ├┤ RY(θ[9]) ├»\n",
       "     └──────────┘└──────────┘└───┘└──────────┘└──────────┘└───┘└──────────┘»\n",
       "«     ┌───────────┐\n",
       "«q_0: ┤ RZ(θ[10]) ├\n",
       "«     ├───────────┤\n",
       "«q_1: ┤ RZ(θ[11]) ├\n",
       "«     └───────────┘</pre>"
      ],
      "text/plain": [
       "     ┌──────────┐┌──────────┐     ┌──────────┐┌──────────┐     ┌──────────┐»\n",
       "q_0: ┤ RY(θ[0]) ├┤ RZ(θ[2]) ├──■──┤ RY(θ[4]) ├┤ RZ(θ[6]) ├──■──┤ RY(θ[8]) ├»\n",
       "     ├──────────┤├──────────┤┌─┴─┐├──────────┤├──────────┤┌─┴─┐├──────────┤»\n",
       "q_1: ┤ RY(θ[1]) ├┤ RZ(θ[3]) ├┤ X ├┤ RY(θ[5]) ├┤ RZ(θ[7]) ├┤ X ├┤ RY(θ[9]) ├»\n",
       "     └──────────┘└──────────┘└───┘└──────────┘└──────────┘└───┘└──────────┘»\n",
       "«     ┌───────────┐\n",
       "«q_0: ┤ RZ(θ[10]) ├\n",
       "«     ├───────────┤\n",
       "«q_1: ┤ RZ(θ[11]) ├\n",
       "«     └───────────┘"
      ]
     },
     "execution_count": 33,
     "metadata": {},
     "output_type": "execute_result"
    }
   ],
   "source": [
    "from qiskit.circuit.library import EfficientSU2, RealAmplitudes\n",
    "\n",
    "var = EfficientSU2(feature_dim, reps=2)\n",
    "var.draw()"
   ]
  },
  {
   "cell_type": "markdown",
   "metadata": {},
   "source": [
    "Constructing a callback function to get the parameter values after each iteration. This step is optional but highly recommended to see if the algorithm is working and is optimizing your parameters as you'd expect it to. "
   ]
  },
  {
   "cell_type": "code",
   "execution_count": 34,
   "metadata": {},
   "outputs": [],
   "source": [
    "def call_back_vqc(eval_count, var_params, eval_val, index):\n",
    "    print(\"eval_count: {}\".format(eval_count))\n",
    "    print(\"var_params: {}\".format(var_params))\n",
    "    print(\"eval_val: {}\".format(eval_val))\n",
    "    print(\"index: {}\".format(index))"
   ]
  },
  {
   "cell_type": "markdown",
   "metadata": {},
   "source": [
    "**Bringing everything together**"
   ]
  },
  {
   "cell_type": "code",
   "execution_count": 38,
   "metadata": {},
   "outputs": [],
   "source": [
    "# initilizing our backend\n",
    "backend = BasicAer.get_backend('qasm_simulator')\n",
    "backend_options = {\"method\": \"statevector\"}\n",
    "\n",
    "# creating a quantum instance\n",
    "quantum_instance = QuantumInstance(backend, shots=1024, seed_simulator=seed, seed_transpiler=seed, backend_options=backend_options)\n",
    "\n",
    "#initilizing our VQC object\n",
    "vqc = VQC(optimizer=cobyla, feature_map=feature_map, var_form=var, callback=call_back_vqc, training_dataset=training_input, \n",
    "         test_dataset=test_input, datapoints=datapoints[0])"
   ]
  },
  {
   "cell_type": "code",
   "execution_count": 39,
   "metadata": {},
   "outputs": [
    {
     "name": "stdout",
     "output_type": "stream",
     "text": [
      "eval_count: 0\n",
      "var_params: [ 3.30045889e-01 -4.79979434e-04  8.18115898e-01  4.28213708e-01\n",
      " -2.50394732e+00  1.20481133e-01  8.07892857e-01  6.02120978e-01\n",
      " -8.65190000e-01 -1.53320351e-01 -2.40490559e-01 -6.07633463e-02]\n",
      "eval_val: 0.3589678901487521\n",
      "index: 0\n",
      "eval_count: 1\n",
      "var_params: [ 1.33004589e+00 -4.79979434e-04  8.18115898e-01  4.28213708e-01\n",
      " -2.50394732e+00  1.20481133e-01  8.07892857e-01  6.02120978e-01\n",
      " -8.65190000e-01 -1.53320351e-01 -2.40490559e-01 -6.07633463e-02]\n",
      "eval_val: 0.49689761013966677\n",
      "index: 1\n",
      "eval_count: 2\n",
      "var_params: [ 0.33004589  0.99952002  0.8181159   0.42821371 -2.50394732  0.12048113\n",
      "  0.80789286  0.60212098 -0.86519    -0.15332035 -0.24049056 -0.06076335]\n",
      "eval_val: 0.3589678901487521\n",
      "index: 2\n",
      "eval_count: 3\n",
      "var_params: [ 3.30045889e-01 -4.79979434e-04  1.81811590e+00  4.28213708e-01\n",
      " -2.50394732e+00  1.20481133e-01  8.07892857e-01  6.02120978e-01\n",
      " -8.65190000e-01 -1.53320351e-01 -2.40490559e-01 -6.07633463e-02]\n",
      "eval_val: 0.3589678901487521\n",
      "index: 3\n",
      "eval_count: 4\n",
      "var_params: [ 3.30045889e-01 -4.79979434e-04  8.18115898e-01  1.42821371e+00\n",
      " -2.50394732e+00  1.20481133e-01  8.07892857e-01  6.02120978e-01\n",
      " -8.65190000e-01 -1.53320351e-01 -2.40490559e-01 -6.07633463e-02]\n",
      "eval_val: 0.5693078708023784\n",
      "index: 4\n",
      "eval_count: 5\n",
      "var_params: [ 3.30045889e-01 -4.79979434e-04  8.18115898e-01  4.28213708e-01\n",
      " -1.50394732e+00  1.20481133e-01  8.07892857e-01  6.02120978e-01\n",
      " -8.65190000e-01 -1.53320351e-01 -2.40490559e-01 -6.07633463e-02]\n",
      "eval_val: 0.3539723615065941\n",
      "index: 5\n",
      "eval_count: 6\n",
      "var_params: [ 3.30045889e-01 -4.79979434e-04  8.18115898e-01  4.28213708e-01\n",
      " -1.50394732e+00  1.12048113e+00  8.07892857e-01  6.02120978e-01\n",
      " -8.65190000e-01 -1.53320351e-01 -2.40490559e-01 -6.07633463e-02]\n",
      "eval_val: 0.4413697694395499\n",
      "index: 6\n",
      "eval_count: 7\n",
      "var_params: [ 3.30045889e-01 -4.79979434e-04  8.18115898e-01  4.28213708e-01\n",
      " -1.50394732e+00  1.20481133e-01  1.80789286e+00  6.02120978e-01\n",
      " -8.65190000e-01 -1.53320351e-01 -2.40490559e-01 -6.07633463e-02]\n",
      "eval_val: 0.31978118049407717\n",
      "index: 7\n",
      "eval_count: 8\n",
      "var_params: [ 3.30045889e-01 -4.79979434e-04  8.18115898e-01  4.28213708e-01\n",
      " -1.50394732e+00  1.20481133e-01  1.80789286e+00  1.60212098e+00\n",
      " -8.65190000e-01 -1.53320351e-01 -2.40490559e-01 -6.07633463e-02]\n",
      "eval_val: 0.3174735609235054\n",
      "index: 8\n",
      "eval_count: 9\n",
      "var_params: [ 3.30045889e-01 -4.79979434e-04  8.18115898e-01  4.28213708e-01\n",
      " -1.50394732e+00  1.20481133e-01  1.80789286e+00  1.60212098e+00\n",
      "  1.34810000e-01 -1.53320351e-01 -2.40490559e-01 -6.07633463e-02]\n",
      "eval_val: 0.3658046298404147\n",
      "index: 9\n",
      "eval_count: 10\n",
      "var_params: [ 3.30045889e-01 -4.79979434e-04  8.18115898e-01  4.28213708e-01\n",
      " -1.50394732e+00  1.20481133e-01  1.80789286e+00  1.60212098e+00\n",
      " -8.65190000e-01  8.46679649e-01 -2.40490559e-01 -6.07633463e-02]\n",
      "eval_val: 0.3490185920170416\n",
      "index: 10\n",
      "eval_count: 11\n",
      "var_params: [ 3.30045889e-01 -4.79979434e-04  8.18115898e-01  4.28213708e-01\n",
      " -1.50394732e+00  1.20481133e-01  1.80789286e+00  1.60212098e+00\n",
      " -8.65190000e-01 -1.53320351e-01  7.59509441e-01 -6.07633463e-02]\n",
      "eval_val: 0.4757910715839916\n",
      "index: 11\n",
      "eval_count: 12\n",
      "var_params: [ 3.30045889e-01 -4.79979434e-04  8.18115898e-01  4.28213708e-01\n",
      " -1.50394732e+00  1.20481133e-01  1.80789286e+00  1.60212098e+00\n",
      " -8.65190000e-01 -1.53320351e-01 -2.40490559e-01  9.39236654e-01]\n",
      "eval_val: 0.7970123171329426\n",
      "index: 12\n",
      "eval_count: 13\n",
      "var_params: [ 9.01075014e-02 -4.79979434e-04  8.18115898e-01  6.23126106e-02\n",
      " -1.49525725e+00 -3.15527669e-02  1.86737081e+00  1.60613524e+00\n",
      " -9.49265273e-01 -2.08195137e-01 -5.15894934e-01 -8.94954529e-01]\n",
      "eval_val: 0.36304990031698875\n",
      "index: 13\n",
      "eval_count: 14\n",
      "var_params: [ 2.86361242e-01 -4.79979434e-04  8.18115898e-01  8.98628329e-01\n",
      " -1.50236515e+00  9.28009125e-02  1.81872178e+00  1.60285184e+00\n",
      " -8.80497258e-01 -1.63311189e-01 -2.90632361e-01 -2.12641286e-01]\n",
      "eval_val: 0.2521698267931091\n",
      "index: 14\n",
      "eval_count: 15\n",
      "var_params: [ 0.28636124  0.24952002  0.8181159   0.89862833 -1.50236515  0.09280091\n",
      "  1.81872178  1.60285184 -0.88049726 -0.16331119 -0.29063236 -0.21264129]\n",
      "eval_val: 0.2521698267931091\n",
      "index: 15\n",
      "eval_count: 16\n",
      "var_params: [ 7.67993039e-01 -4.79979434e-04  8.18115898e-01  9.33042015e-01\n",
      " -1.50111078e+00  7.08555350e-02  1.82730714e+00  1.60343128e+00\n",
      " -8.92633127e-01 -1.71232106e-01 -3.30385686e-01 -3.33052855e-01]\n",
      "eval_val: 0.2376719015435734\n",
      "index: 16\n",
      "eval_count: 17\n",
      "var_params: [ 7.67993039e-01 -4.79979434e-04  1.06811590e+00  9.33042015e-01\n",
      " -1.50111078e+00  7.08555350e-02  1.82730714e+00  1.60343128e+00\n",
      " -8.92633127e-01 -1.71232106e-01 -3.30385686e-01 -3.33052855e-01]\n",
      "eval_val: 0.2376719015435734\n",
      "index: 17\n",
      "eval_count: 18\n",
      "var_params: [ 7.70978275e-01 -4.79979434e-04  8.18115898e-01  9.56198226e-01\n",
      " -1.50026674e+00  5.62836655e-01  1.83308404e+00  1.60382117e+00\n",
      " -9.00799087e-01 -1.76561917e-01 -3.57134823e-01 -4.14075152e-01]\n",
      "eval_val: 0.24269130332904085\n",
      "index: 18\n",
      "eval_count: 19\n",
      "var_params: [ 7.67993039e-01 -4.79979434e-04  8.18115898e-01  9.33042015e-01\n",
      " -1.25112435e+00  7.08555350e-02  1.82730714e+00  1.60343128e+00\n",
      " -8.92633127e-01 -1.71232106e-01 -3.30385686e-01 -3.30448656e-01]\n",
      "eval_val: 0.2272776836296723\n",
      "index: 19\n",
      "eval_count: 20\n",
      "var_params: [ 8.06125139e-01 -4.79979434e-04  8.18115898e-01  1.22882935e+00\n",
      " -1.16262012e+00  3.20927939e-02  1.90109875e+00  1.60841160e+00\n",
      " -9.96941530e-01 -2.39312782e-01 -6.72067487e-01 -2.12175382e-01]\n",
      "eval_val: 0.24236102322812075\n",
      "index: 20\n",
      "eval_count: 21\n",
      "var_params: [ 7.67993039e-01 -4.79979434e-04  8.18115898e-01  9.33042015e-01\n",
      " -1.25112435e+00  7.08555350e-02  2.07167331e+00  1.60343128e+00\n",
      " -8.92633127e-01 -1.71232106e-01 -2.77610930e-01 -3.30448656e-01]\n",
      "eval_val: 0.23414560106503793\n",
      "index: 21\n",
      "eval_count: 22\n",
      "var_params: [ 8.04310426e-01 -4.79979434e-04  8.18115898e-01  1.21475278e+00\n",
      " -1.16439942e+00  3.39375188e-02  1.69642717e+00  1.60817458e+00\n",
      " -9.91977477e-01 -2.36072812e-01  8.14084798e-03 -4.51320664e-01]\n",
      "eval_val: 0.31750772597028415\n",
      "index: 22\n",
      "eval_count: 23\n",
      "var_params: [ 8.09190089e-01 -4.79979434e-04  8.18115898e-01  9.95866667e-01\n",
      " -1.25261642e+00  9.69595204e-02  1.81709487e+00  1.60343128e+00\n",
      " -7.10102924e-01 -1.71232106e-01 -2.83099180e-01 -1.87219321e-01]\n",
      "eval_val: 0.2442019484367352\n",
      "index: 23\n",
      "eval_count: 24\n",
      "var_params: [ 6.94270571e-01 -4.79979434e-04  8.18115898e-01  8.96300480e-01\n",
      " -1.21901369e+00  4.10167504e-03  1.84928405e+00  1.60501744e+00\n",
      " -6.00533951e-01 -1.92914779e-01 -5.21596812e-01 -6.69400899e-01]\n",
      "eval_val: 0.24918323769453005\n",
      "index: 24\n",
      "eval_count: 25\n",
      "var_params: [ 7.67993039e-01 -4.79979434e-04  8.18115898e-01  9.33042015e-01\n",
      " -1.25112435e+00  7.08555350e-02  1.82730714e+00  1.85276503e+00\n",
      " -8.92633127e-01 -1.52992548e-01 -3.30385686e-01 -3.30448656e-01]\n",
      "eval_val: 0.25005915717760985\n",
      "index: 25\n",
      "eval_count: 26\n",
      "var_params: [ 7.74721026e-01 -4.79979434e-04  8.18115898e-01  9.77167176e-01\n",
      " -1.23819466e+00  6.61513731e-02  1.82729582e+00  1.53938867e+00\n",
      " -9.16061019e-01  3.20078029e-01 -3.70358218e-01 -3.44036246e-01]\n",
      "eval_val: 0.245389058822202\n",
      "index: 26\n",
      "eval_count: 27\n",
      "var_params: [ 8.64634140e-01 -4.79979434e-04  8.18115898e-01  5.38038130e-01\n",
      " -1.18166183e+00  8.24243781e-02  1.81252553e+00  1.45247288e+00\n",
      " -1.00158610e+00 -2.35305813e-01 -4.83625787e-01 -1.99269783e-01]\n",
      "eval_val: 0.23581616705390065\n",
      "index: 27\n",
      "eval_count: 28\n",
      "var_params: [ 8.16313589e-01 -4.79979434e-04  8.18115898e-01  7.35540072e-01\n",
      " -1.21639309e+00  7.66399566e-02  1.81991633e+00  1.52795208e+00\n",
      " -9.47109612e-01 -2.03268960e-01 -4.07005736e-01 -2.64859220e-01]\n",
      "eval_val: 0.2218270395648636\n",
      "index: 28\n",
      "eval_count: 29\n",
      "var_params: [ 0.81631359  0.12452002  0.8181159   0.73554007 -1.21639309  0.07663996\n",
      "  1.81991633  1.52795208 -0.94710961 -0.20326896 -0.40700574 -0.26485922]\n",
      "eval_val: 0.2218270395648636\n",
      "index: 29\n",
      "eval_count: 30\n",
      "var_params: [ 8.47615581e-01 -4.79979434e-04  8.18115898e-01  7.45444469e-01\n",
      " -1.15456827e+00  5.36174528e-02  1.75532112e+00  1.39899143e+00\n",
      " -1.06833720e+00 -2.76319202e-01 -2.99195021e-01 -3.32761638e-01]\n",
      "eval_val: 0.21588240342918447\n",
      "index: 30\n",
      "eval_count: 31\n",
      "var_params: [ 6.13466331e-01 -4.79979434e-04  8.18115898e-01  7.22195700e-01\n",
      " -1.13407065e+00  5.97802697e-02  1.73916077e+00  1.35410581e+00\n",
      " -1.10070716e+00 -2.95353906e-01 -2.90280095e-01 -2.78817186e-01]\n",
      "eval_val: 0.21156849582955367\n",
      "index: 31\n"
     ]
    },
    {
     "name": "stdout",
     "output_type": "stream",
     "text": [
      "eval_count: 32\n",
      "var_params: [ 6.17910930e-01 -4.79979434e-04  8.18115898e-01  7.31557880e-01\n",
      " -1.13404240e+00  1.82758090e-01  1.73918859e+00  1.35415997e+00\n",
      " -1.12035739e+00 -2.96094272e-01 -2.90408891e-01 -2.81528328e-01]\n",
      "eval_val: 0.2077241404246913\n",
      "index: 32\n",
      "eval_count: 33\n",
      "var_params: [ 5.72745972e-01 -4.79979434e-04  8.18115898e-01  6.88476662e-01\n",
      " -1.09486499e+00  2.26675310e-01  1.73147454e+00  1.27550577e+00\n",
      " -1.02547594e+00 -3.42532672e-01 -3.71554849e-01 -4.58024428e-01]\n",
      "eval_val: 0.1962474988508554\n",
      "index: 33\n",
      "eval_count: 34\n",
      "var_params: [ 5.56282845e-01 -4.79979434e-04  8.18115898e-01  6.72092504e-01\n",
      " -1.05502889e+00  2.52689903e-01  1.70999698e+00  1.17382931e+00\n",
      " -1.05947544e+00 -1.32234147e-01 -3.95011355e-01 -5.12483767e-01]\n",
      "eval_val: 0.21009147402166048\n",
      "index: 34\n",
      "eval_count: 35\n",
      "var_params: [ 5.81681132e-01 -4.79979434e-04  8.18115898e-01  7.57785904e-01\n",
      " -1.09515142e+00  2.17592378e-01  1.74876548e+00  1.22842312e+00\n",
      " -1.04991761e+00 -3.62015032e-01 -4.51618137e-01 -4.30529516e-01]\n",
      "eval_val: 0.20214857199984565\n",
      "index: 35\n",
      "eval_count: 36\n",
      "var_params: [ 5.31417997e-01 -4.79979434e-04  8.18115898e-01  6.09490136e-01\n",
      " -1.02005833e+00  2.77537598e-01  1.68450642e+00  1.39523863e+00\n",
      " -1.08247119e+00 -4.72187486e-01 -3.85016476e-01 -5.55943331e-01]\n",
      "eval_val: 0.20354384284338184\n",
      "index: 36\n",
      "eval_count: 37\n",
      "var_params: [ 5.72745972e-01 -4.79979434e-04  9.43115898e-01  6.88476662e-01\n",
      " -1.09486499e+00  2.26675310e-01  1.73147454e+00  1.27550577e+00\n",
      " -1.02547594e+00 -3.42532672e-01 -3.71554849e-01 -4.58024428e-01]\n",
      "eval_val: 0.1962474988508554\n",
      "index: 37\n",
      "eval_count: 38\n",
      "var_params: [ 5.84592818e-01 -4.79979434e-04  8.18115898e-01  6.64673439e-01\n",
      " -1.05167427e+00  2.88619984e-01  1.68314080e+00  1.18691574e+00\n",
      " -8.60691194e-01 -4.22088587e-01 -2.85231519e-01 -3.87517261e-01]\n",
      "eval_val: 0.20032951975047694\n",
      "index: 38\n",
      "eval_count: 39\n",
      "var_params: [ 5.72745972e-01 -4.79979434e-04  8.18115898e-01  6.88476662e-01\n",
      " -1.16377057e+00  2.26675310e-01  1.62953427e+00  1.27550577e+00\n",
      " -1.02547594e+00 -3.42532672e-01 -3.93570469e-01 -4.58742242e-01]\n",
      "eval_val: 0.2012239158640611\n",
      "index: 39\n",
      "eval_count: 40\n",
      "var_params: [ 5.50712671e-01 -4.79979434e-04  8.18115898e-01  6.25793887e-01\n",
      " -1.25579614e+00  2.50526806e-01  1.86365717e+00  1.21397125e+00\n",
      " -1.04509782e+00 -3.97792110e-01 -3.12152635e-01 -5.16262589e-01]\n",
      "eval_val: 0.1916515942978559\n",
      "index: 40\n",
      "eval_count: 41\n",
      "var_params: [ 0.55071267  0.12452002  0.8181159   0.62579389 -1.25579614  0.25052681\n",
      "  1.86365717  1.21397125 -1.04509782 -0.39779211 -0.31215264 -0.51626259]\n",
      "eval_val: 0.1916515942978559\n",
      "index: 41\n",
      "eval_count: 42\n",
      "var_params: [ 4.87379262e-01 -4.79979434e-04  8.18115898e-01  8.08331043e-01\n",
      " -1.27501441e+00  2.56182329e-01  1.87389399e+00  1.26495235e+00\n",
      " -9.95914505e-01 -3.90715891e-01 -2.13284739e-01 -6.15358207e-01]\n",
      "eval_val: 0.2072139723019805\n",
      "index: 42\n",
      "eval_count: 43\n",
      "var_params: [ 5.26156023e-01 -4.79979434e-04  8.03509249e-01  6.10760692e-01\n",
      " -1.27108169e+00  2.63947491e-01  1.90204908e+00  1.27911680e+00\n",
      " -9.77110484e-01 -3.62568157e-01 -3.59733058e-01 -4.98260539e-01]\n",
      "eval_val: 0.1928468274250975\n",
      "index: 43\n",
      "eval_count: 44\n",
      "var_params: [ 5.47838966e-01 -4.79979434e-04  9.57339884e-01  5.29913281e-01\n",
      " -1.35351901e+00  3.19809899e-01  1.87407523e+00  1.14363274e+00\n",
      " -1.06717221e+00 -4.78841047e-01 -3.78914777e-01 -4.61526942e-01]\n",
      "eval_val: 0.19691913253114782\n",
      "index: 44\n",
      "eval_count: 45\n",
      "var_params: [ 4.91160251e-01 -4.79979434e-04  8.22086276e-01  5.92924291e-01\n",
      " -1.24896530e+00  1.49758707e-01  1.86575090e+00  1.19516249e+00\n",
      " -1.03204577e+00 -4.12680091e-01 -3.11129367e-01 -5.10761978e-01]\n",
      "eval_val: 0.19485965183794612\n",
      "index: 45\n",
      "eval_count: 46\n",
      "var_params: [ 5.93746052e-01 -4.79979434e-04  8.22948727e-01  6.31202379e-01\n",
      " -1.26708592e+00  2.25375503e-01  1.86642060e+00  1.22940830e+00\n",
      " -1.02920254e+00 -4.23674286e-01 -3.16818857e-01 -5.23436389e-01]\n",
      "eval_val: 0.19241335607086718\n",
      "index: 46\n",
      "eval_count: 47\n",
      "var_params: [ 6.03143809e-01 -4.79979434e-04  8.13083280e-01  5.68643046e-01\n",
      " -1.23058288e+00  2.54534494e-01  1.88441203e+00  1.17892770e+00\n",
      " -1.04629916e+00 -3.26336928e-01 -3.07536540e-01 -5.62579444e-01]\n",
      "eval_val: 0.19549774648552734\n",
      "index: 47\n",
      "eval_count: 48\n",
      "var_params: [ 5.63188666e-01 -4.79979434e-04  8.23972425e-01  6.39931766e-01\n",
      " -1.27931671e+00  2.37158369e-01  1.86808937e+00  1.20422638e+00\n",
      " -1.04429922e+00 -3.68577918e-01 -2.93561691e-01 -4.77920034e-01]\n",
      "eval_val: 0.1935552329558479\n",
      "index: 48\n",
      "eval_count: 49\n",
      "var_params: [ 5.55691255e-01 -4.79979434e-04  7.95325823e-01  5.84656879e-01\n",
      " -1.22360353e+00  2.65400293e-01  1.88528184e+00  1.28008348e+00\n",
      " -1.10403389e+00 -4.28087223e-01 -2.73095373e-01 -4.79170660e-01]\n",
      "eval_val: 0.18808928847439593\n",
      "index: 49\n",
      "eval_count: 50\n",
      "var_params: [ 5.65031944e-01 -4.79979434e-04  7.54517527e-01  6.23845832e-01\n",
      " -1.18343690e+00  2.67210768e-01  1.94106708e+00  1.25003758e+00\n",
      " -1.14147734e+00 -4.51117480e-01 -3.35879859e-01 -4.50343964e-01]\n",
      "eval_val: 0.18824990837939254\n",
      "index: 50\n",
      "eval_count: 51\n",
      "var_params: [ 5.58571570e-01 -4.79979434e-04  7.91904830e-01  5.79643128e-01\n",
      " -1.19907768e+00  2.79455152e-01  1.89311097e+00  1.26018129e+00\n",
      " -1.06604447e+00 -4.45959855e-01 -2.49403603e-01 -4.62415460e-01]\n",
      "eval_val: 0.18808132106774283\n",
      "index: 51\n",
      "eval_count: 52\n",
      "var_params: [ 5.64703448e-01 -4.79979434e-04  7.08766519e-01  5.54915774e-01\n",
      " -1.21201780e+00  3.01117521e-01  1.81447170e+00  1.26119162e+00\n",
      " -1.06898879e+00 -4.66618668e-01 -2.66632604e-01 -4.39836183e-01]\n",
      "eval_val: 0.19056683209952086\n",
      "index: 52\n",
      "eval_count: 53\n",
      "var_params: [ 5.67326602e-01 -4.79979434e-04  8.18769312e-01  5.81529150e-01\n",
      " -1.16327125e+00  2.73970136e-01  1.86405311e+00  1.27017030e+00\n",
      " -1.06494905e+00 -4.34532848e-01 -2.68445154e-01 -4.43609628e-01]\n",
      "eval_val: 0.18986882181087458\n",
      "index: 53\n",
      "eval_count: 54\n",
      "var_params: [ 5.22195297e-01 -4.79979434e-04  7.91555250e-01  6.30863559e-01\n",
      " -1.18758012e+00  3.25095572e-01  1.92008549e+00  1.30527184e+00\n",
      " -1.09210335e+00 -4.84024870e-01 -1.98855778e-01 -5.07348683e-01]\n",
      "eval_val: 0.18706039357443952\n",
      "index: 54\n",
      "eval_count: 55\n",
      "var_params: [ 5.07272376e-01 -4.79979434e-04  8.20285257e-01  6.26550970e-01\n",
      " -1.21373282e+00  3.40895641e-01  1.91738336e+00  1.30124586e+00\n",
      " -1.09574436e+00 -5.16975044e-01 -2.14178770e-01 -4.83925103e-01]\n",
      "eval_val: 0.18538746412608237\n",
      "index: 55\n",
      "eval_count: 56\n",
      "var_params: [ 5.23204195e-01 -4.79979434e-04  8.50317890e-01  5.49516959e-01\n",
      " -1.22525025e+00  3.98078802e-01  1.96661800e+00  1.28376249e+00\n",
      " -1.13223558e+00 -5.33672164e-01 -2.14790834e-01 -5.12066135e-01]\n",
      "eval_val: 0.1839890862796767\n",
      "index: 56\n",
      "eval_count: 57\n",
      "var_params: [ 4.48691100e-01 -4.79979434e-04  8.55066367e-01  5.04727943e-01\n",
      " -1.22162867e+00  3.31789378e-01  1.99315572e+00  1.27971218e+00\n",
      " -1.14748908e+00 -5.83840581e-01 -2.02190035e-01 -5.14861929e-01]\n",
      "eval_val: 0.18828960318757057\n",
      "index: 57\n",
      "eval_count: 58\n",
      "var_params: [ 5.07752750e-01 -4.79979434e-04  8.41595710e-01  5.38110859e-01\n",
      " -1.22549724e+00  4.08485198e-01  1.98360513e+00  1.31775864e+00\n",
      " -1.10004177e+00 -5.25619023e-01 -2.43057208e-01 -5.14962751e-01]\n",
      "eval_val: 0.18481509236635024\n",
      "index: 58\n",
      "eval_count: 59\n",
      "var_params: [ 5.41789600e-01 -4.79979434e-04  8.59782375e-01  5.70612598e-01\n",
      " -1.28178677e+00  4.32279485e-01  2.00859646e+00  1.29538823e+00\n",
      " -1.15164946e+00 -5.01347997e-01 -1.72589949e-01 -4.39410085e-01]\n",
      "eval_val: 0.1865393458919053\n",
      "index: 59\n",
      "eval_count: 60\n",
      "var_params: [ 0.5232042   0.06202002  0.85031789  0.54951696 -1.22525025  0.3980788\n",
      "  1.966618    1.28376249 -1.13223558 -0.53367216 -0.21479083 -0.51206614]\n",
      "eval_val: 0.1839890862796767\n",
      "index: 60\n",
      "eval_count: 61\n",
      "var_params: [ 6.09826916e-01 -4.79979434e-04  8.60672236e-01  5.58996017e-01\n",
      " -1.24834372e+00  3.67454852e-01  1.97889970e+00  1.31844937e+00\n",
      " -1.11531741e+00 -6.00121605e-01 -2.17865801e-01 -5.31765803e-01]\n",
      "eval_val: 0.1866531563720232\n",
      "index: 61\n",
      "eval_count: 62\n",
      "var_params: [ 5.19704555e-01 -4.79979434e-04  8.87668328e-01  5.70988315e-01\n",
      " -1.22799903e+00  3.85757777e-01  1.99243624e+00  1.26493728e+00\n",
      " -1.11607279e+00 -5.18066379e-01 -2.20000610e-01 -5.30112652e-01]\n",
      "eval_val: 0.18529611398192108\n",
      "index: 62\n",
      "eval_count: 63\n",
      "var_params: [ 5.08830306e-01 -4.79979434e-04  8.18689865e-01  5.63910167e-01\n",
      " -1.26273223e+00  4.67542907e-01  1.91243677e+00  1.23053421e+00\n",
      " -1.12928164e+00 -5.54141722e-01 -2.39191595e-01 -5.46544438e-01]\n",
      "eval_val: 0.18417888558208495\n",
      "index: 63\n"
     ]
    },
    {
     "name": "stdout",
     "output_type": "stream",
     "text": [
      "eval_count: 64\n",
      "var_params: [ 5.26176703e-01 -4.79979434e-04  8.80051508e-01  5.48491758e-01\n",
      " -1.19063828e+00  4.20379420e-01  1.93994983e+00  1.29537317e+00\n",
      " -1.14789307e+00 -5.34486663e-01 -2.24815539e-01 -5.00901266e-01]\n",
      "eval_val: 0.18416642858636134\n",
      "index: 64\n",
      "eval_count: 65\n",
      "var_params: [ 5.21160915e-01 -4.79979434e-04  8.59770597e-01  5.39974704e-01\n",
      " -1.23458040e+00  3.97339521e-01  1.95283017e+00  1.29148003e+00\n",
      " -1.12286244e+00 -5.27179070e-01 -1.98599232e-01 -5.19973869e-01]\n",
      "eval_val: 0.18403088743737794\n",
      "index: 65\n",
      "eval_count: 66\n",
      "var_params: [ 5.29430901e-01 -4.79979434e-04  8.24421555e-01  5.57277229e-01\n",
      " -1.19862569e+00  4.10981010e-01  1.97523475e+00  1.29237517e+00\n",
      " -1.14668479e+00 -5.16980883e-01 -1.90059737e-01 -5.43907454e-01]\n",
      "eval_val: 0.18467091846089337\n",
      "index: 66\n",
      "eval_count: 67\n",
      "var_params: [ 5.24720195e-01 -4.79979434e-04  8.48565447e-01  5.46940748e-01\n",
      " -1.21296581e+00  4.05015283e-01  1.97049663e+00  1.27375080e+00\n",
      " -1.11319720e+00 -5.42503348e-01 -2.02997191e-01 -5.03656834e-01]\n",
      "eval_val: 0.18430400605790265\n",
      "index: 67\n",
      "eval_count: 68\n",
      "var_params: [ 5.48073878e-01 -4.79979434e-04  8.38237095e-01  5.18862513e-01\n",
      " -1.22058582e+00  3.84759156e-01  1.95309179e+00  1.26138830e+00\n",
      " -1.13158059e+00 -5.02427751e-01 -2.31719191e-01 -5.04571870e-01]\n",
      "eval_val: 0.18483542501428962\n",
      "index: 68\n",
      "eval_count: 69\n",
      "var_params: [ 5.17955969e-01 -4.79979434e-04  8.44053343e-01  5.54716045e-01\n",
      " -1.23700756e+00  4.14652080e-01  1.95364516e+00  1.27214454e+00\n",
      " -1.13255867e+00 -5.40393764e-01 -2.22045482e-01 -5.20351670e-01]\n",
      "eval_val: 0.18316482231965134\n",
      "index: 69\n",
      "eval_count: 70\n",
      "var_params: [ 4.97352834e-01 -4.79979434e-04  8.40042670e-01  5.46180504e-01\n",
      " -1.24116868e+00  4.12736376e-01  1.94679596e+00  1.26518510e+00\n",
      " -1.14445113e+00 -5.54461663e-01 -2.22383105e-01 -5.23063118e-01]\n",
      "eval_val: 0.18272223406563454\n",
      "index: 70\n",
      "eval_count: 71\n",
      "var_params: [ 5.10767544e-01 -4.79979434e-04  8.38236909e-01  5.46007912e-01\n",
      " -1.24981970e+00  4.12259440e-01  1.93947349e+00  1.26834477e+00\n",
      " -1.14794824e+00 -5.77665028e-01 -2.26772046e-01 -5.32269578e-01]\n",
      "eval_val: 0.18362087019265808\n",
      "index: 71\n",
      "eval_count: 72\n",
      "var_params: [ 4.99885568e-01 -4.79979434e-04  8.43674244e-01  5.38923932e-01\n",
      " -1.24550407e+00  4.20877997e-01  1.95459347e+00  1.26437434e+00\n",
      " -1.14902455e+00 -5.54381919e-01 -2.20494449e-01 -5.22141098e-01]\n",
      "eval_val: 0.18275372015843439\n",
      "index: 72\n",
      "eval_count: 73\n",
      "var_params: [ 4.86022891e-01 -4.79979434e-04  8.33420441e-01  5.57623292e-01\n",
      " -1.25288379e+00  4.21214500e-01  1.94002748e+00  1.26382826e+00\n",
      " -1.15085472e+00 -5.46513835e-01 -2.16929465e-01 -5.06249090e-01]\n",
      "eval_val: 0.18282341881802758\n",
      "index: 73\n",
      "eval_count: 74\n",
      "var_params: [ 4.92321563e-01 -4.79979434e-04  8.48012313e-01  5.55320328e-01\n",
      " -1.24204590e+00  4.13733401e-01  1.95223303e+00  1.26691128e+00\n",
      " -1.14365586e+00 -5.58252315e-01 -2.19826975e-01 -5.27054987e-01]\n",
      "eval_val: 0.18242072360136877\n",
      "index: 74\n",
      "eval_count: 75\n",
      "var_params: [ 4.82000193e-01 -4.79979434e-04  8.59446926e-01  5.57772948e-01\n",
      " -1.24334608e+00  4.12916280e-01  1.95255233e+00  1.24603891e+00\n",
      " -1.14285866e+00 -5.47440394e-01 -2.27877447e-01 -5.37676048e-01]\n",
      "eval_val: 0.1828007006731249\n",
      "index: 75\n",
      "eval_count: 76\n",
      "var_params: [ 4.88856196e-01 -4.79979434e-04  8.51839968e-01  5.52159680e-01\n",
      " -1.24661865e+00  4.13167094e-01  1.95293433e+00  1.27057290e+00\n",
      " -1.13628711e+00 -5.60176146e-01 -2.28900653e-01 -5.21395483e-01]\n",
      "eval_val: 0.18300169205612396\n",
      "index: 76\n",
      "eval_count: 77\n",
      "var_params: [ 4.80476889e-01 -4.79979434e-04  8.34613149e-01  5.56563312e-01\n",
      " -1.23367326e+00  4.26593924e-01  1.95681982e+00  1.27840693e+00\n",
      " -1.14345644e+00 -5.53508140e-01 -2.19086150e-01 -5.42656422e-01]\n",
      "eval_val: 0.1824439283105346\n",
      "index: 77\n",
      "eval_count: 78\n",
      "var_params: [ 4.91811690e-01 -4.79979434e-04  8.40619650e-01  5.55217922e-01\n",
      " -1.24871031e+00  4.09306910e-01  1.95917614e+00  1.26276052e+00\n",
      " -1.13730802e+00 -5.59253064e-01 -2.15816394e-01 -5.28602152e-01]\n",
      "eval_val: 0.18302004008158038\n",
      "index: 78\n",
      "eval_count: 79\n",
      "var_params: [ 4.89948545e-01 -4.79979434e-04  8.50987241e-01  5.54644030e-01\n",
      " -1.22508848e+00  4.26321308e-01  1.94821791e+00  1.25679633e+00\n",
      " -1.13352232e+00 -5.68840425e-01 -2.08692389e-01 -5.19412668e-01]\n",
      "eval_val: 0.1829496045715345\n",
      "index: 79\n",
      "eval_count: 80\n",
      "var_params: [ 0.49232156 -0.01610498  0.84801231  0.55532033 -1.2420459   0.4137334\n",
      "  1.95223303  1.26691128 -1.14365586 -0.55825232 -0.21982697 -0.52705499]\n",
      "eval_val: 0.18242072360136877\n",
      "index: 80\n",
      "eval_count: 81\n",
      "var_params: [ 4.89842955e-01 -4.79979434e-04  8.47731900e-01  5.61482171e-01\n",
      " -1.22727255e+00  4.04373703e-01  1.96469527e+00  1.26870243e+00\n",
      " -1.16355764e+00 -5.59538542e-01 -2.23972160e-01 -5.19769185e-01]\n",
      "eval_val: 0.18288013852093696\n",
      "index: 81\n",
      "eval_count: 82\n",
      "var_params: [ 4.88508825e-01 -4.79979434e-04  8.45469562e-01  5.47841930e-01\n",
      " -1.23672007e+00  4.04431721e-01  1.94624391e+00  1.26771627e+00\n",
      " -1.14150843e+00 -5.55333823e-01 -2.18270174e-01 -5.27560506e-01]\n",
      "eval_val: 0.18274451373815345\n",
      "index: 82\n",
      "eval_count: 83\n",
      "var_params: [ 4.91222670e-01 -4.79979434e-04  8.65369762e-01  5.56797484e-01\n",
      " -1.24974553e+00  4.16705519e-01  1.94999117e+00  1.27881241e+00\n",
      " -1.15180684e+00 -5.53743255e-01 -2.01259709e-01 -5.32114427e-01]\n",
      "eval_val: 0.18255372547297544\n",
      "index: 83\n",
      "eval_count: 84\n",
      "var_params: [ 5.01985753e-01 -4.79979434e-04  8.48420843e-01  5.60662908e-01\n",
      " -1.23788708e+00  4.14297053e-01  1.95154644e+00  1.26923017e+00\n",
      " -1.13952124e+00 -5.49292489e-01 -2.20896376e-01 -5.27288751e-01]\n",
      "eval_val: 0.1824298398247532\n",
      "index: 84\n",
      "eval_count: 85\n",
      "var_params: [ 4.89394481e-01 -4.79979434e-04  8.45661656e-01  5.57590699e-01\n",
      " -1.24374676e+00  4.14889146e-01  1.95003519e+00  1.26636032e+00\n",
      " -1.14459024e+00 -5.54978768e-01 -2.18780388e-01 -5.22612019e-01]\n",
      "eval_val: 0.1824657837718398\n",
      "index: 85\n",
      "eval_count: 86\n",
      "var_params: [ 4.96807295e-01 -4.79979434e-04  8.45071461e-01  5.59798722e-01\n",
      " -1.24415115e+00  4.15428836e-01  1.94243103e+00  1.26658447e+00\n",
      " -1.14927510e+00 -5.63437897e-01 -2.22755762e-01 -5.32032716e-01]\n",
      "eval_val: 0.18238373184311657\n",
      "index: 86\n",
      "eval_count: 87\n",
      "var_params: [ 4.97050183e-01 -4.79979434e-04  8.46195163e-01  5.60515747e-01\n",
      " -1.23998710e+00  4.19071506e-01  1.94110059e+00  1.26434587e+00\n",
      " -1.14751313e+00 -5.66347239e-01 -2.19902878e-01 -5.30582961e-01]\n",
      "eval_val: 0.18217044507246938\n",
      "index: 87\n",
      "eval_count: 88\n",
      "var_params: [ 4.97368195e-01 -4.79979434e-04  8.46841325e-01  5.63044234e-01\n",
      " -1.23541076e+00  4.18807801e-01  1.94355100e+00  1.26414913e+00\n",
      " -1.15211050e+00 -5.68023872e-01 -2.20024963e-01 -5.28820620e-01]\n",
      "eval_val: 0.1822137884842231\n",
      "index: 88\n",
      "eval_count: 89\n",
      "var_params: [ 4.96246174e-01 -4.79979434e-04  8.46404319e-01  5.60591754e-01\n",
      " -1.23944334e+00  4.19340935e-01  1.94120908e+00  1.26141133e+00\n",
      " -1.14748445e+00 -5.65299976e-01 -2.21792366e-01 -5.31533494e-01]\n",
      "eval_val: 0.182352230601588\n",
      "index: 89\n",
      "eval_count: 90\n",
      "var_params: [ 4.96937058e-01 -4.79979434e-04  8.50932466e-01  5.60957452e-01\n",
      " -1.24101021e+00  4.20908603e-01  1.93982379e+00  1.26615903e+00\n",
      " -1.14879342e+00 -5.65834499e-01 -2.14928531e-01 -5.32132015e-01]\n",
      "eval_val: 0.18199743311735117\n",
      "index: 90\n",
      "eval_count: 91\n",
      "var_params: [ 4.94378102e-01 -4.79979434e-04  8.48250763e-01  5.60929833e-01\n",
      " -1.23894890e+00  4.25050230e-01  1.94056384e+00  1.27010820e+00\n",
      " -1.14842896e+00 -5.65378611e-01 -2.14814801e-01 -5.35197200e-01]\n",
      "eval_val: 0.1819950019426472\n",
      "index: 91\n",
      "eval_count: 92\n",
      "var_params: [ 4.95669246e-01 -4.79979434e-04  8.48212837e-01  5.58241439e-01\n",
      " -1.23890863e+00  4.26630422e-01  1.94031748e+00  1.27007024e+00\n",
      " -1.14989260e+00 -5.64650313e-01 -2.15291267e-01 -5.34247260e-01]\n",
      "eval_val: 0.1824006289179227\n",
      "index: 92\n",
      "eval_count: 93\n",
      "var_params: [ 4.94374078e-01 -4.79979434e-04  8.46785826e-01  5.65153841e-01\n",
      " -1.23993645e+00  4.23341446e-01  1.94180555e+00  1.27014224e+00\n",
      " -1.14564356e+00 -5.68032730e-01 -2.10451781e-01 -5.36527602e-01]\n",
      "eval_val: 0.1818220828557235\n",
      "index: 93\n",
      "eval_count: 94\n",
      "var_params: [ 4.92404093e-01 -4.79979434e-04  8.50475771e-01  5.67875306e-01\n",
      " -1.23975069e+00  4.22973062e-01  1.94018765e+00  1.27333300e+00\n",
      " -1.14270338e+00 -5.70363460e-01 -2.12992905e-01 -5.34906122e-01]\n",
      "eval_val: 0.18178114614592883\n",
      "index: 94\n",
      "eval_count: 95\n",
      "var_params: [ 4.89968197e-01 -4.79979434e-04  8.50356085e-01  5.66490994e-01\n",
      " -1.24075004e+00  4.22767268e-01  1.94031677e+00  1.27276059e+00\n",
      " -1.14371901e+00 -5.72576526e-01 -2.12715393e-01 -5.34851396e-01]\n",
      "eval_val: 0.181836084153052\n",
      "index: 95\n"
     ]
    },
    {
     "name": "stdout",
     "output_type": "stream",
     "text": [
      "eval_count: 96\n",
      "var_params: [ 4.90891911e-01 -4.79979434e-04  8.49903738e-01  5.66511815e-01\n",
      " -1.23581071e+00  4.18551268e-01  1.93641513e+00  1.27422577e+00\n",
      " -1.14221937e+00 -5.69263293e-01 -2.11003532e-01 -5.35933368e-01]\n",
      "eval_val: 0.18184857323010553\n",
      "index: 96\n",
      "eval_count: 97\n",
      "var_params: [ 0.49240409 -0.00438623  0.85047577  0.56787531 -1.23975069  0.42297306\n",
      "  1.94018765  1.273333   -1.14270338 -0.57036346 -0.2129929  -0.53490612]\n",
      "eval_val: 0.18178114614592883\n",
      "index: 97\n",
      "eval_count: 98\n",
      "var_params: [ 4.89467157e-01 -4.79979434e-04  8.48329621e-01  5.70733257e-01\n",
      " -1.24122787e+00  4.24256137e-01  1.93785846e+00  1.27286678e+00\n",
      " -1.14387237e+00 -5.67362563e-01 -2.11632352e-01 -5.30670335e-01]\n",
      "eval_val: 0.18206624368620722\n",
      "index: 98\n",
      "eval_count: 99\n",
      "var_params: [ 4.91295944e-01 -4.79979434e-04  8.51257765e-01  5.66789494e-01\n",
      " -1.23904558e+00  4.22707805e-01  1.94257453e+00  1.27331768e+00\n",
      " -1.14122585e+00 -5.69196111e-01 -2.12139130e-01 -5.33602069e-01]\n",
      "eval_val: 0.18215540664006696\n",
      "index: 99\n",
      "eval_count: 100\n",
      "var_params: [ 4.92259211e-01 -4.79979434e-04  8.50642776e-01  5.69740751e-01\n",
      " -1.24299429e+00  4.19367262e-01  1.94156134e+00  1.27635934e+00\n",
      " -1.14561692e+00 -5.68719126e-01 -2.14573212e-01 -5.37947174e-01]\n",
      "eval_val: 0.18189951977588079\n",
      "index: 100\n",
      "eval_count: 101\n",
      "var_params: [ 4.92151029e-01 -4.79979434e-04  8.50179721e-01  5.66628949e-01\n",
      " -1.24195840e+00  4.23135881e-01  1.93898390e+00  1.27308330e+00\n",
      " -1.14041747e+00 -5.69407066e-01 -2.13155964e-01 -5.35893618e-01]\n",
      "eval_val: 0.18191356854639226\n",
      "index: 101\n",
      "eval_count: 102\n",
      "var_params: [ 4.91332046e-01 -4.79979434e-04  8.52416077e-01  5.71212920e-01\n",
      " -1.23787947e+00  4.24238764e-01  1.93924308e+00  1.26883076e+00\n",
      " -1.14327891e+00 -5.70591798e-01 -2.14335946e-01 -5.38971640e-01]\n",
      "eval_val: 0.181715989336444\n",
      "index: 102\n",
      "eval_count: 103\n",
      "var_params: [ 4.91027995e-01 -4.79979434e-04  8.50007528e-01  5.71556983e-01\n",
      " -1.23731398e+00  4.23153437e-01  1.93994643e+00  1.26808843e+00\n",
      " -1.14233275e+00 -5.70979290e-01 -2.16670990e-01 -5.38518251e-01]\n",
      "eval_val: 0.18173112279938647\n",
      "index: 103\n",
      "eval_count: 104\n",
      "var_params: [ 4.96011045e-01 -4.79979434e-04  8.51108952e-01  5.72554627e-01\n",
      " -1.23699941e+00  4.25450638e-01  1.93651728e+00  1.26979709e+00\n",
      " -1.14470014e+00 -5.75305376e-01 -2.14448722e-01 -5.39852598e-01]\n",
      "eval_val: 0.18181910959601572\n",
      "index: 104\n",
      "eval_count: 105\n",
      "var_params: [ 4.90804681e-01  2.27838486e-04  8.51454920e-01  5.73197322e-01\n",
      " -1.23823931e+00  4.25163309e-01  1.93795236e+00  1.26897474e+00\n",
      " -1.14414659e+00 -5.69496967e-01 -2.14038067e-01 -5.36756517e-01]\n",
      "eval_val: 0.18180836447434362\n",
      "index: 105\n",
      "eval_count: 106\n",
      "var_params: [ 0.48825725 -0.00496532  0.85130525  0.57100401 -1.23975124  0.42307456\n",
      "  1.93743108  1.26613757 -1.14424307 -0.57117128 -0.21293755 -0.54237288]\n",
      "eval_val: 0.18178248463590416\n",
      "index: 106\n",
      "eval_count: 107\n",
      "var_params: [ 4.90383465e-01 -7.46529949e-04  8.52050514e-01  5.69891449e-01\n",
      " -1.23677050e+00  4.26214361e-01  1.93873166e+00  1.27018955e+00\n",
      " -1.14424711e+00 -5.69816070e-01 -2.15934787e-01 -5.40006979e-01]\n",
      "eval_val: 0.18175992770384258\n",
      "index: 107\n",
      "eval_count: 108\n",
      "var_params: [ 4.91486028e-01 -7.15210649e-04  8.52798824e-01  5.70313689e-01\n",
      " -1.23750240e+00  4.24601521e-01  1.93857959e+00  1.26773337e+00\n",
      " -1.14302013e+00 -5.70713870e-01 -2.14518625e-01 -5.38107328e-01]\n",
      "eval_val: 0.18183117156415096\n",
      "index: 108\n",
      "eval_count: 109\n",
      "var_params: [ 4.92150462e-01 -3.85795551e-04  8.53655972e-01  5.71260209e-01\n",
      " -1.23904113e+00  4.22318984e-01  1.93916074e+00  1.26903903e+00\n",
      " -1.14531482e+00 -5.69808184e-01 -2.16115018e-01 -5.39148478e-01]\n",
      "eval_val: 0.1818200128192345\n",
      "index: 109\n",
      "eval_count: 110\n",
      "var_params: [ 4.91900065e-01 -5.28660056e-04  8.51983331e-01  5.71044839e-01\n",
      " -1.23869890e+00  4.25167581e-01  1.94024731e+00  1.26815245e+00\n",
      " -1.14377208e+00 -5.70431672e-01 -2.14336487e-01 -5.39021848e-01]\n",
      "eval_val: 0.18177123891778305\n",
      "index: 110\n",
      "eval_count: 111\n",
      "var_params: [ 4.90326076e-01 -1.26166731e-03  8.54015692e-01  5.72495222e-01\n",
      " -1.23919133e+00  4.25260949e-01  1.93972118e+00  1.26962042e+00\n",
      " -1.14192322e+00 -5.72041672e-01 -2.15676320e-01 -5.38692168e-01]\n",
      "eval_val: 0.1817979581953852\n",
      "index: 111\n",
      "eval_count: 112\n",
      "var_params: [ 4.90926580e-01 -9.87464160e-04  8.52704755e-01  5.71532247e-01\n",
      " -1.23688481e+00  4.24145034e-01  1.94009188e+00  1.26871129e+00\n",
      " -1.14422468e+00 -5.71147495e-01 -2.14152144e-01 -5.38484294e-01]\n",
      "eval_val: 0.18172694023764602\n",
      "index: 112\n",
      "eval_count: 113\n",
      "var_params: [ 4.91285072e-01  2.72469368e-04  8.51934731e-01  5.71995735e-01\n",
      " -1.23664988e+00  4.23167617e-01  1.94028802e+00  1.27020200e+00\n",
      " -1.14196280e+00 -5.69834067e-01 -2.12717414e-01 -5.40785073e-01]\n",
      "eval_val: 0.1818180303388966\n",
      "index: 113\n",
      "eval_count: 114\n",
      "var_params: [ 4.92167650e-01 -1.54438452e-03  8.52797455e-01  5.71657699e-01\n",
      " -1.23726929e+00  4.24460482e-01  1.93910896e+00  1.26846627e+00\n",
      " -1.14278775e+00 -5.69719779e-01 -2.14587713e-01 -5.38918178e-01]\n",
      "eval_val: 0.1817622363120735\n",
      "index: 114\n",
      "eval_count: 115\n",
      "var_params: [ 4.90731071e-01  6.44976762e-04  8.53219719e-01  5.68817745e-01\n",
      " -1.23699298e+00  4.23895004e-01  1.93827518e+00  1.26729788e+00\n",
      " -1.14231867e+00 -5.71482806e-01 -2.13891226e-01 -5.37901548e-01]\n",
      "eval_val: 0.1817729445864088\n",
      "index: 115\n",
      "eval_count: 116\n",
      "var_params: [ 4.90742629e-01 -2.22980358e-04  8.52590922e-01  5.71928920e-01\n",
      " -1.23775204e+00  4.24382262e-01  1.93878921e+00  1.26765253e+00\n",
      " -1.14353854e+00 -5.70659322e-01 -2.14433823e-01 -5.40041877e-01]\n",
      "eval_val: 0.18174619114749907\n",
      "index: 116\n",
      "eval_count: 117\n",
      "var_params: [ 0.49017154 -0.00308237  0.85113179  0.5703871  -1.23898275  0.42332549\n",
      "  1.938232    1.26894248 -1.14355254 -0.57103028 -0.21316846 -0.53927497]\n",
      "eval_val: 0.18198748313564586\n",
      "index: 117\n",
      "eval_count: 118\n",
      "var_params: [ 4.92508803e-01 -2.30266215e-04  8.52140192e-01  5.71449576e-01\n",
      " -1.23751154e+00  4.24473515e-01  1.93862777e+00  1.26914398e+00\n",
      " -1.14350987e+00 -5.71801780e-01 -2.14381421e-01 -5.39192592e-01]\n",
      "eval_val: 0.18171394436675503\n",
      "index: 118\n",
      "eval_count: 119\n",
      "var_params: [ 4.92307437e-01 -8.83918540e-04  8.51783852e-01  5.71255466e-01\n",
      " -1.23776649e+00  4.24256569e-01  1.93831356e+00  1.26919945e+00\n",
      " -1.14360036e+00 -5.72017826e-01 -2.14082548e-01 -5.39289933e-01]\n",
      "eval_val: 0.18167200035844983\n",
      "index: 119\n",
      "eval_count: 120\n",
      "var_params: [ 4.92413000e-01 -1.00487838e-03  8.51935074e-01  5.71074288e-01\n",
      " -1.23808616e+00  4.23572897e-01  1.93811959e+00  1.26937450e+00\n",
      " -1.14407055e+00 -5.71996114e-01 -2.14313020e-01 -5.39367379e-01]\n",
      "eval_val: 0.1816424394075417\n",
      "index: 120\n",
      "eval_count: 121\n",
      "var_params: [ 4.92314403e-01 -1.12411911e-03  8.51658480e-01  5.70971018e-01\n",
      " -1.23813480e+00  4.22992376e-01  1.93813037e+00  1.26984866e+00\n",
      " -1.14404357e+00 -5.72060189e-01 -2.13884043e-01 -5.39735783e-01]\n",
      "eval_val: 0.18173589961823383\n",
      "index: 121\n",
      "eval_count: 122\n",
      "var_params: [ 4.92452541e-01 -8.72757367e-04  8.51710736e-01  5.71125229e-01\n",
      " -1.23798696e+00  4.23555382e-01  1.93795411e+00  1.26932454e+00\n",
      " -1.14426748e+00 -5.71768789e-01 -2.14167103e-01 -5.39205270e-01]\n",
      "eval_val: 0.18163530721990448\n",
      "index: 122\n",
      "eval_count: 123\n",
      "var_params: [ 4.92197510e-01 -1.01120966e-03  8.51815085e-01  5.71431887e-01\n",
      " -1.23839032e+00  4.23728961e-01  1.93752903e+00  1.26940214e+00\n",
      " -1.14438401e+00 -5.71942200e-01 -2.14408429e-01 -5.38631318e-01]\n",
      "eval_val: 0.181699785918718\n",
      "index: 123\n",
      "eval_count: 124\n",
      "var_params: [ 4.92562532e-01 -8.14536193e-04  8.51787622e-01  5.71171379e-01\n",
      " -1.23807529e+00  4.23337549e-01  1.93799402e+00  1.26907019e+00\n",
      " -1.14411646e+00 -5.71881370e-01 -2.13967835e-01 -5.39032816e-01]\n",
      "eval_val: 0.1817285270040979\n",
      "index: 124\n",
      "eval_count: 125\n",
      "var_params: [ 4.92329147e-01 -9.11052025e-04  8.51726917e-01  5.70323236e-01\n",
      " -1.23766365e+00  4.23776679e-01  1.93767720e+00  1.26921950e+00\n",
      " -1.14443632e+00 -5.71754969e-01 -2.14426893e-01 -5.39254780e-01]\n",
      "eval_val: 0.1818028866132558\n",
      "index: 125\n",
      "eval_count: 126\n",
      "var_params: [ 4.92510831e-01 -8.74448354e-04  8.52001147e-01  5.71075758e-01\n",
      " -1.23808713e+00  4.23725283e-01  1.93789980e+00  1.26939511e+00\n",
      " -1.14440460e+00 -5.71714086e-01 -2.13871001e-01 -5.39264511e-01]\n",
      "eval_val: 0.1816495463067395\n",
      "index: 126\n",
      "eval_count: 127\n",
      "var_params: [ 4.92725778e-01 -1.01354833e-03  8.51310103e-01  5.71209053e-01\n",
      " -1.23845112e+00  4.23846939e-01  1.93843023e+00  1.26922709e+00\n",
      " -1.14464240e+00 -5.71669658e-01 -2.14311998e-01 -5.39378386e-01]\n",
      "eval_val: 0.1816724701981803\n",
      "index: 127\n"
     ]
    },
    {
     "name": "stdout",
     "output_type": "stream",
     "text": [
      "eval_count: 128\n",
      "var_params: [ 4.92695843e-01 -1.07683526e-03  8.51726644e-01  5.71034019e-01\n",
      " -1.23792886e+00  4.23555660e-01  1.93803262e+00  1.26952606e+00\n",
      " -1.14414308e+00 -5.71632253e-01 -2.14181366e-01 -5.38968390e-01]\n",
      "eval_val: 0.1816617518344575\n",
      "index: 128\n",
      "eval_count: 129\n",
      "var_params: [ 4.92576941e-01 -1.30583739e-03  8.51858297e-01  5.71639162e-01\n",
      " -1.23773054e+00  4.23520905e-01  1.93767110e+00  1.26911059e+00\n",
      " -1.14425963e+00 -5.71430844e-01 -2.14336966e-01 -5.39623764e-01]\n",
      "eval_val: 0.181736940027033\n",
      "index: 129\n",
      "eval_count: 130\n",
      "var_params: [ 4.92582462e-01 -6.97234936e-04  8.51658076e-01  5.71059776e-01\n",
      " -1.23821844e+00  4.23596389e-01  1.93775244e+00  1.26935476e+00\n",
      " -1.14402375e+00 -5.71626943e-01 -2.14234318e-01 -5.39325109e-01]\n",
      "eval_val: 0.18165428397264302\n",
      "index: 130\n",
      "eval_count: 131\n",
      "var_params: [ 4.92675232e-01 -2.39390134e-04  8.51900553e-01  5.71435618e-01\n",
      " -1.23772386e+00  4.23557195e-01  1.93813494e+00  1.26974020e+00\n",
      " -1.14447651e+00 -5.71895897e-01 -2.14453372e-01 -5.39225066e-01]\n",
      "eval_val: 0.18165569322818179\n",
      "index: 131\n",
      "eval_count: 132\n",
      "var_params: [ 4.92149271e-01 -8.38438129e-04  8.51791297e-01  5.71114053e-01\n",
      " -1.23803154e+00  4.23550379e-01  1.93810942e+00  1.26942089e+00\n",
      " -1.14425149e+00 -5.71439922e-01 -2.14246911e-01 -5.39199191e-01]\n",
      "eval_val: 0.18160821626735818\n",
      "index: 132\n",
      "eval_count: 133\n",
      "var_params: [ 4.92192295e-01 -5.34305662e-04  8.52056315e-01  5.71160820e-01\n",
      " -1.23818608e+00  4.23113514e-01  1.93848107e+00  1.26884056e+00\n",
      " -1.14412404e+00 -5.71346761e-01 -2.14088362e-01 -5.38893353e-01]\n",
      "eval_val: 0.18171457669696334\n",
      "index: 133\n",
      "eval_count: 134\n",
      "var_params: [ 4.92024255e-01 -8.29991167e-04  8.51498535e-01  5.71165081e-01\n",
      " -1.23791426e+00  4.23345122e-01  1.93807199e+00  1.26939946e+00\n",
      " -1.14428491e+00 -5.71631931e-01 -2.14023414e-01 -5.39216677e-01]\n",
      "eval_val: 0.1817290000208803\n",
      "index: 134\n",
      "eval_count: 135\n",
      "var_params: [ 4.92079245e-01 -8.84619821e-04  8.52145638e-01  5.71115656e-01\n",
      " -1.23843618e+00  4.23744576e-01  1.93830959e+00  1.27007141e+00\n",
      " -1.14405230e+00 -5.71090272e-01 -2.14339522e-01 -5.39378643e-01]\n",
      "eval_val: 0.18174937746237801\n",
      "index: 135\n",
      "time taken: \n",
      "48.947100999999975\n",
      "testing success ratio: 1.0\n"
     ]
    }
   ],
   "source": [
    "start = time.process_time()\n",
    "\n",
    "result = vqc.run(quantum_instance)\n",
    "\n",
    "print(\"time taken: \")\n",
    "print(time.process_time() - start)\n",
    "\n",
    "\n",
    "print(\"testing success ratio: {}\".format(result['testing_accuracy']))"
   ]
  },
  {
   "cell_type": "code",
   "execution_count": 40,
   "metadata": {},
   "outputs": [
    {
     "name": "stdout",
     "output_type": "stream",
     "text": [
      "preduction of datapoints:\n",
      "ground truth: ['A', 'A', 'A', 'A', 'A', 'B', 'B', 'B', 'B', 'B']\n",
      "prediction:   ['A', 'A', 'A', 'A', 'A', 'B', 'B', 'B', 'B', 'B']\n"
     ]
    }
   ],
   "source": [
    "print(\"prediction of datapoints:\")\n",
    "print(\"ground truth: {}\".format(map_label_to_class_name(datapoints[1], vqc.label_to_class)))\n",
    "print(\"prediction:   {}\".format(result['predicted_classes']))"
   ]
  },
  {
   "cell_type": "markdown",
   "metadata": {},
   "source": [
    "As you can see we seem to get a pretty good accuracy, but that is because we have used such a small training and testing set along with the fact that digits `0` and `1` are so far apart making it easy to classify them. Its your turn to play around with the options that you have and create better feature maps, variational circuit, assigning the correct optimization routine, etc. Have fun! "
   ]
  },
  {
   "cell_type": "code",
   "execution_count": null,
   "metadata": {},
   "outputs": [],
   "source": []
  }
 ],
 "metadata": {
  "kernelspec": {
   "display_name": "Python 3",
   "language": "python",
   "name": "python3"
  },
  "language_info": {
   "codemirror_mode": {
    "name": "ipython",
    "version": 3
   },
   "file_extension": ".py",
   "mimetype": "text/x-python",
   "name": "python",
   "nbconvert_exporter": "python",
   "pygments_lexer": "ipython3",
   "version": "3.8.3"
  }
 },
 "nbformat": 4,
 "nbformat_minor": 4
}
